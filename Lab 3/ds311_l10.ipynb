{
  "nbformat": 4,
  "nbformat_minor": 0,
  "metadata": {
    "colab": {
      "provenance": [],
      "collapsed_sections": []
    },
    "kernelspec": {
      "name": "python3",
      "display_name": "Python 3"
    },
    "language_info": {
      "name": "python"
    }
  },
  "cells": [
    {
      "cell_type": "markdown",
      "source": [
        "## Text data\n",
        "\n",
        "### [Kaggle fake news dataset](https://www.kaggle.com/datasets/clmentbisaillon/fake-and-real-news-dataset?resource=download)\n",
        "\n",
        "### [Spacy tutorial 1](https://www.kaggle.com/code/sudalairajkumar/getting-started-with-spacy)\n",
        "\n",
        "### [Spacy tutorial 2](https://towardsdatascience.com/analysis-and-visualization-of-unstructured-text-data-2de07d9adc84)\n",
        "\n"
      ],
      "metadata": {
        "id": "TtngHw6436m1"
      }
    },
    {
      "cell_type": "code",
      "execution_count": 22,
      "metadata": {
        "colab": {
          "base_uri": "https://localhost:8080/"
        },
        "id": "4GOUq5ZB1PkA",
        "outputId": "509dca25-f097-49a2-aae5-85ee8a6236e0"
      },
      "outputs": [
        {
          "output_type": "stream",
          "name": "stdout",
          "text": [
            "Looking in indexes: https://pypi.org/simple, https://us-python.pkg.dev/colab-wheels/public/simple/\n",
            "Requirement already satisfied: spacytextblob in /usr/local/lib/python3.7/dist-packages (4.0.0)\n",
            "Requirement already satisfied: textblob<0.16.0,>=0.15.3 in /usr/local/lib/python3.7/dist-packages (from spacytextblob) (0.15.3)\n",
            "Requirement already satisfied: spacy<4.0,>=3.0 in /usr/local/lib/python3.7/dist-packages (from spacytextblob) (3.4.1)\n",
            "Requirement already satisfied: typing-extensions<4.2.0,>=3.7.4 in /usr/local/lib/python3.7/dist-packages (from spacy<4.0,>=3.0->spacytextblob) (4.1.1)\n",
            "Requirement already satisfied: srsly<3.0.0,>=2.4.3 in /usr/local/lib/python3.7/dist-packages (from spacy<4.0,>=3.0->spacytextblob) (2.4.4)\n",
            "Requirement already satisfied: wasabi<1.1.0,>=0.9.1 in /usr/local/lib/python3.7/dist-packages (from spacy<4.0,>=3.0->spacytextblob) (0.10.1)\n",
            "Requirement already satisfied: preshed<3.1.0,>=3.0.2 in /usr/local/lib/python3.7/dist-packages (from spacy<4.0,>=3.0->spacytextblob) (3.0.7)\n",
            "Requirement already satisfied: numpy>=1.15.0 in /usr/local/lib/python3.7/dist-packages (from spacy<4.0,>=3.0->spacytextblob) (1.21.6)\n",
            "Requirement already satisfied: langcodes<4.0.0,>=3.2.0 in /usr/local/lib/python3.7/dist-packages (from spacy<4.0,>=3.0->spacytextblob) (3.3.0)\n",
            "Requirement already satisfied: pathy>=0.3.5 in /usr/local/lib/python3.7/dist-packages (from spacy<4.0,>=3.0->spacytextblob) (0.6.2)\n",
            "Requirement already satisfied: spacy-loggers<2.0.0,>=1.0.0 in /usr/local/lib/python3.7/dist-packages (from spacy<4.0,>=3.0->spacytextblob) (1.0.3)\n",
            "Requirement already satisfied: thinc<8.2.0,>=8.1.0 in /usr/local/lib/python3.7/dist-packages (from spacy<4.0,>=3.0->spacytextblob) (8.1.2)\n",
            "Requirement already satisfied: setuptools in /usr/local/lib/python3.7/dist-packages (from spacy<4.0,>=3.0->spacytextblob) (57.4.0)\n",
            "Requirement already satisfied: pydantic!=1.8,!=1.8.1,<1.10.0,>=1.7.4 in /usr/local/lib/python3.7/dist-packages (from spacy<4.0,>=3.0->spacytextblob) (1.9.2)\n",
            "Requirement already satisfied: catalogue<2.1.0,>=2.0.6 in /usr/local/lib/python3.7/dist-packages (from spacy<4.0,>=3.0->spacytextblob) (2.0.8)\n",
            "Requirement already satisfied: typer<0.5.0,>=0.3.0 in /usr/local/lib/python3.7/dist-packages (from spacy<4.0,>=3.0->spacytextblob) (0.4.2)\n",
            "Requirement already satisfied: murmurhash<1.1.0,>=0.28.0 in /usr/local/lib/python3.7/dist-packages (from spacy<4.0,>=3.0->spacytextblob) (1.0.8)\n",
            "Requirement already satisfied: packaging>=20.0 in /usr/local/lib/python3.7/dist-packages (from spacy<4.0,>=3.0->spacytextblob) (21.3)\n",
            "Requirement already satisfied: requests<3.0.0,>=2.13.0 in /usr/local/lib/python3.7/dist-packages (from spacy<4.0,>=3.0->spacytextblob) (2.23.0)\n",
            "Requirement already satisfied: spacy-legacy<3.1.0,>=3.0.9 in /usr/local/lib/python3.7/dist-packages (from spacy<4.0,>=3.0->spacytextblob) (3.0.10)\n",
            "Requirement already satisfied: cymem<2.1.0,>=2.0.2 in /usr/local/lib/python3.7/dist-packages (from spacy<4.0,>=3.0->spacytextblob) (2.0.6)\n",
            "Requirement already satisfied: jinja2 in /usr/local/lib/python3.7/dist-packages (from spacy<4.0,>=3.0->spacytextblob) (2.11.3)\n",
            "Requirement already satisfied: tqdm<5.0.0,>=4.38.0 in /usr/local/lib/python3.7/dist-packages (from spacy<4.0,>=3.0->spacytextblob) (4.64.1)\n",
            "Requirement already satisfied: zipp>=0.5 in /usr/local/lib/python3.7/dist-packages (from catalogue<2.1.0,>=2.0.6->spacy<4.0,>=3.0->spacytextblob) (3.8.1)\n",
            "Requirement already satisfied: pyparsing!=3.0.5,>=2.0.2 in /usr/local/lib/python3.7/dist-packages (from packaging>=20.0->spacy<4.0,>=3.0->spacytextblob) (3.0.9)\n",
            "Requirement already satisfied: smart-open<6.0.0,>=5.2.1 in /usr/local/lib/python3.7/dist-packages (from pathy>=0.3.5->spacy<4.0,>=3.0->spacytextblob) (5.2.1)\n",
            "Requirement already satisfied: chardet<4,>=3.0.2 in /usr/local/lib/python3.7/dist-packages (from requests<3.0.0,>=2.13.0->spacy<4.0,>=3.0->spacytextblob) (3.0.4)\n",
            "Requirement already satisfied: certifi>=2017.4.17 in /usr/local/lib/python3.7/dist-packages (from requests<3.0.0,>=2.13.0->spacy<4.0,>=3.0->spacytextblob) (2022.9.24)\n",
            "Requirement already satisfied: idna<3,>=2.5 in /usr/local/lib/python3.7/dist-packages (from requests<3.0.0,>=2.13.0->spacy<4.0,>=3.0->spacytextblob) (2.10)\n",
            "Requirement already satisfied: urllib3!=1.25.0,!=1.25.1,<1.26,>=1.21.1 in /usr/local/lib/python3.7/dist-packages (from requests<3.0.0,>=2.13.0->spacy<4.0,>=3.0->spacytextblob) (1.24.3)\n",
            "Requirement already satisfied: nltk>=3.1 in /usr/local/lib/python3.7/dist-packages (from textblob<0.16.0,>=0.15.3->spacytextblob) (3.7)\n",
            "Requirement already satisfied: joblib in /usr/local/lib/python3.7/dist-packages (from nltk>=3.1->textblob<0.16.0,>=0.15.3->spacytextblob) (1.2.0)\n",
            "Requirement already satisfied: regex>=2021.8.3 in /usr/local/lib/python3.7/dist-packages (from nltk>=3.1->textblob<0.16.0,>=0.15.3->spacytextblob) (2022.6.2)\n",
            "Requirement already satisfied: click in /usr/local/lib/python3.7/dist-packages (from nltk>=3.1->textblob<0.16.0,>=0.15.3->spacytextblob) (7.1.2)\n",
            "Requirement already satisfied: blis<0.8.0,>=0.7.8 in /usr/local/lib/python3.7/dist-packages (from thinc<8.2.0,>=8.1.0->spacy<4.0,>=3.0->spacytextblob) (0.7.8)\n",
            "Requirement already satisfied: confection<1.0.0,>=0.0.1 in /usr/local/lib/python3.7/dist-packages (from thinc<8.2.0,>=8.1.0->spacy<4.0,>=3.0->spacytextblob) (0.0.2)\n",
            "Requirement already satisfied: MarkupSafe>=0.23 in /usr/local/lib/python3.7/dist-packages (from jinja2->spacy<4.0,>=3.0->spacytextblob) (2.0.1)\n"
          ]
        },
        {
          "output_type": "execute_result",
          "data": {
            "text/plain": [
              "<spacytextblob.spacytextblob.SpacyTextBlob at 0x7f61da992e90>"
            ]
          },
          "metadata": {},
          "execution_count": 22
        }
      ],
      "source": [
        "!pip3 install spacytextblob\n",
        "\n",
        "import pandas as pd\n",
        "from datetime import datetime # for grabbing date ranges\n",
        "import spacy # for natural language processing\n",
        "from spacytextblob.spacytextblob import SpacyTextBlob # for sentiment analysis\n",
        "\n",
        "\n",
        "nlp = spacy.load('en_core_web_sm')\n",
        "nlp.add_pipe('spacytextblob')\n",
        "\n"
      ]
    },
    {
      "cell_type": "markdown",
      "source": [
        "### NLP crash course with spacy\n",
        "\n",
        "+ A text dataset is often called a corpus. Especially if it has been curated in some fashion (labeled, annotated, ...).\n",
        "\n",
        "+ Spacy is a python package that performs standard NLP analyses of text. \n",
        "\n",
        "+ Tokenization: Splitting text into units\n",
        "  - Sentence \n",
        "  - Word based tokenization (wasn't)\n",
        "  - Subword based tokenization (morpheme-like units)\n",
        "    + Byte pair encoding\n",
        "    + WordPiece\n",
        "    + Unigram\n",
        "    + SentencePiece\n",
        "  - Character based tokenization\n",
        "+ Lemmatization: mapping word variants to canonical root form\n",
        "  - removing pluralization\n",
        "  - removing tense\n",
        "+ Part of speech tagging: Labeling words with part of speech (verb, noun, etc.)\n",
        "+ Noun phrase identification\n",
        "+ Named entity recognition (NER)\n",
        "  - person, place, country, currency, ...\n",
        "+ Sentiment analysis"
      ],
      "metadata": {
        "id": "u5_OROd8o3VM"
      }
    },
    {
      "cell_type": "code",
      "source": [
        "text = \"Dr. James Harvey, the big furry cat ate the little brown mice who weren't very happy.\"\n",
        "doc = nlp(text)\n",
        "print([t.text for t in doc]) # word based tokenization\n",
        "print([t.lemma_ for t in doc]) # lemmatization\n",
        "print([t.pos_ for t in doc]) # Part of speech tagging\n",
        "print([t.tag_ for t in doc]) # Fine grained part of speech tagging\n",
        "print([n for n in doc.noun_chunks]) # Noun phrase parsing\n",
        "spacy.explain('JJ')\n",
        "print(nlp.get_pipe('ner').labels)\n",
        "print([f'{ent.text}, {ent.label_}, {spacy.explain(ent.label_)}' for ent in doc.ents])"
      ],
      "metadata": {
        "colab": {
          "base_uri": "https://localhost:8080/"
        },
        "id": "ZnJM1lrwrR7Y",
        "outputId": "dae7402a-e460-45e7-ce61-c010b3fc0847"
      },
      "execution_count": 38,
      "outputs": [
        {
          "output_type": "stream",
          "name": "stdout",
          "text": [
            "('CARDINAL', 'DATE', 'EVENT', 'FAC', 'GPE', 'LANGUAGE', 'LAW', 'LOC', 'MONEY', 'NORP', 'ORDINAL', 'ORG', 'PERCENT', 'PERSON', 'PRODUCT', 'QUANTITY', 'TIME', 'WORK_OF_ART')\n",
            "['James Harvey, PERSON, People, including fictional']\n"
          ]
        }
      ]
    },
    {
      "cell_type": "code",
      "source": [
        "fake = pd.read_csv('drive/MyDrive/DS311/archive/Fake.csv')\n",
        "real = pd.read_csv('drive/MyDrive/DS311/archive/True.csv')"
      ],
      "metadata": {
        "id": "297oBrPC1ZpT"
      },
      "execution_count": 39,
      "outputs": []
    },
    {
      "cell_type": "code",
      "source": [
        "def clean_dates(df):\n",
        "  \"\"\"\n",
        "  Translates dates from various string formats to python Datetime objects. \n",
        "  Adds columns Date: Datetime, month: int, year: int, day: int.\n",
        "  Also tosses out corrupted rows in the dataframe.\n",
        "\n",
        "  :param df: (DataFrame) With column 'date'\n",
        "\n",
        "  :returns: (DataFrame) Cleaned with additional columns Date, month, day, year\n",
        "  \"\"\"\n",
        "  formats = {1: '%d-%b-%y', 0: '%B %d, %Y', 2: '%b %d, %Y'}\n",
        "  dates = []\n",
        "  bad = []\n",
        "  for i, date in enumerate(df['date']):\n",
        "    try:\n",
        "      if date[0].isdigit():\n",
        "        f = formats[1]\n",
        "      elif len(date.split()[0].strip()) > 3:\n",
        "        f = formats[0]\n",
        "      else:\n",
        "        f = formats[2]\n",
        "      dates.append(datetime.strptime(date.strip(), f))\n",
        "    except:\n",
        "      bad.append([date, format, i])\n",
        "  print(bad)\n",
        "  df = df.drop([b[-1] for b in bad])\n",
        "  df['Date'] = dates\n",
        "  df['month'] = pd.DatetimeIndex(dates).month\n",
        "  df['year'] = pd.DatetimeIndex(dates).year\n",
        "  df['day'] = pd.DatetimeIndex(dates).day\n",
        "  return df"
      ],
      "metadata": {
        "id": "espKevIY1vNB"
      },
      "execution_count": null,
      "outputs": []
    },
    {
      "cell_type": "code",
      "source": [
        "fake = clean_dates(fake)\n",
        "real = clean_dates(real)"
      ],
      "metadata": {
        "colab": {
          "base_uri": "https://localhost:8080/"
        },
        "id": "z36fR7Re1yBI",
        "outputId": "7285dbcd-e162-45d3-c429-8d177c3077d9"
      },
      "execution_count": 40,
      "outputs": [
        {
          "output_type": "stream",
          "name": "stdout",
          "text": [
            "[['https://100percentfedup.com/served-roy-moore-vietnamletter-veteran-sets-record-straight-honorable-decent-respectable-patriotic-commander-soldier/', <built-in function format>, 9358], ['https://100percentfedup.com/video-hillary-asked-about-trump-i-just-want-to-eat-some-pie/', <built-in function format>, 15507], ['https://100percentfedup.com/12-yr-old-black-conservative-whose-video-to-obama-went-viral-do-you-really-love-america-receives-death-threats-from-left/', <built-in function format>, 15508], ['https://fedup.wpengine.com/wp-content/uploads/2015/04/hillarystreetart.jpg', <built-in function format>, 15839], ['https://fedup.wpengine.com/wp-content/uploads/2015/04/entitled.jpg', <built-in function format>, 15840], ['https://fedup.wpengine.com/wp-content/uploads/2015/04/hillarystreetart.jpg', <built-in function format>, 17432], ['https://fedup.wpengine.com/wp-content/uploads/2015/04/entitled.jpg', <built-in function format>, 17433], ['MSNBC HOST Rudely Assumes Steel Worker Would Never Let His Son Follow in His Footsteps…He Couldn’t Be More Wrong [Video]', <built-in function format>, 18933], ['https://fedup.wpengine.com/wp-content/uploads/2015/04/hillarystreetart.jpg', <built-in function format>, 21869], ['https://fedup.wpengine.com/wp-content/uploads/2015/04/entitled.jpg', <built-in function format>, 21870]]\n",
            "[]\n"
          ]
        }
      ]
    },
    {
      "cell_type": "code",
      "source": [
        "short_fake = fake[(fake.year == 2017) & (fake.month == 1)]\n"
      ],
      "metadata": {
        "id": "zJdyO4Si2zE8"
      },
      "execution_count": 41,
      "outputs": []
    },
    {
      "cell_type": "code",
      "source": [
        "short_fake"
      ],
      "metadata": {
        "colab": {
          "base_uri": "https://localhost:8080/",
          "height": 424
        },
        "id": "8WRFQwvlR0Tx",
        "outputId": "aa5239c9-8237-4931-85c7-55c3c17dfa58"
      },
      "execution_count": 43,
      "outputs": [
        {
          "output_type": "execute_result",
          "data": {
            "text/plain": [
              "                                                   title  \\\n",
              "2749    Trump’s SCOTUS Pick Sided With Hobby Lobby Ag...   \n",
              "2750    It Took A Scathing Letter From Canada’s Prime...   \n",
              "2751    WATCH: Jake Tapper STUNNED Into Disbelief Lis...   \n",
              "2752    An Anonymous Group Just Revealed The Direct P...   \n",
              "2753    Trump Jr. Just ‘Liked’ Tweet Praising Mosque ...   \n",
              "...                                                  ...   \n",
              "23076  SOUR GRAPES? Whatever happened to the ‘smooth ...   \n",
              "23077  HACKING DEMOCRACY? CIA Accusing Russia of Doin...   \n",
              "23078                       Good News for Silver in 2017   \n",
              "23079             Gerald Celente: Top 10 Trends for 2017   \n",
              "23080  CNN’s Don Lemon: Is He an Alcoholic or Just a ...   \n",
              "\n",
              "                                                    text      subject  \\\n",
              "2749   On Tuesday, Donald Trump announced the identit...         News   \n",
              "2750   Fox News couldn t wait to try to spin the Queb...         News   \n",
              "2751   Sean Spicer is doing his level best to make en...         News   \n",
              "2752   Just after Donald Trump was sworn in, his admi...         News   \n",
              "2753   When it comes to how shameless the Trump famil...         News   \n",
              "...                                                  ...          ...   \n",
              "23076   Andrew Malcolm McClatchy News You better stop...  Middle-east   \n",
              "23077  Peter Certo Other WordsEven in an election yea...  Middle-east   \n",
              "23078   James Burgess Oil PricePrecious metals are an...  Middle-east   \n",
              "23079  What can we expect in 2017? Inflated markets, ...  Middle-east   \n",
              "23080  Day in and day out, CNN works hard to try and ...  Middle-east   \n",
              "\n",
              "                   date       Date  month  year  day  \n",
              "2749   January 31, 2017 2017-01-31      1  2017   31  \n",
              "2750   January 31, 2017 2017-01-31      1  2017   31  \n",
              "2751   January 31, 2017 2017-01-31      1  2017   31  \n",
              "2752   January 31, 2017 2017-01-31      1  2017   31  \n",
              "2753   January 31, 2017 2017-01-31      1  2017   31  \n",
              "...                 ...        ...    ...   ...  ...  \n",
              "23076   January 3, 2017 2017-01-03      1  2017    3  \n",
              "23077   January 3, 2017 2017-01-03      1  2017    3  \n",
              "23078   January 3, 2017 2017-01-03      1  2017    3  \n",
              "23079   January 2, 2017 2017-01-02      1  2017    2  \n",
              "23080   January 2, 2017 2017-01-02      1  2017    2  \n",
              "\n",
              "[1029 rows x 8 columns]"
            ],
            "text/html": [
              "\n",
              "  <div id=\"df-9cb78ac1-9ec3-4067-9b32-b453c7e9c500\">\n",
              "    <div class=\"colab-df-container\">\n",
              "      <div>\n",
              "<style scoped>\n",
              "    .dataframe tbody tr th:only-of-type {\n",
              "        vertical-align: middle;\n",
              "    }\n",
              "\n",
              "    .dataframe tbody tr th {\n",
              "        vertical-align: top;\n",
              "    }\n",
              "\n",
              "    .dataframe thead th {\n",
              "        text-align: right;\n",
              "    }\n",
              "</style>\n",
              "<table border=\"1\" class=\"dataframe\">\n",
              "  <thead>\n",
              "    <tr style=\"text-align: right;\">\n",
              "      <th></th>\n",
              "      <th>title</th>\n",
              "      <th>text</th>\n",
              "      <th>subject</th>\n",
              "      <th>date</th>\n",
              "      <th>Date</th>\n",
              "      <th>month</th>\n",
              "      <th>year</th>\n",
              "      <th>day</th>\n",
              "    </tr>\n",
              "  </thead>\n",
              "  <tbody>\n",
              "    <tr>\n",
              "      <th>2749</th>\n",
              "      <td>Trump’s SCOTUS Pick Sided With Hobby Lobby Ag...</td>\n",
              "      <td>On Tuesday, Donald Trump announced the identit...</td>\n",
              "      <td>News</td>\n",
              "      <td>January 31, 2017</td>\n",
              "      <td>2017-01-31</td>\n",
              "      <td>1</td>\n",
              "      <td>2017</td>\n",
              "      <td>31</td>\n",
              "    </tr>\n",
              "    <tr>\n",
              "      <th>2750</th>\n",
              "      <td>It Took A Scathing Letter From Canada’s Prime...</td>\n",
              "      <td>Fox News couldn t wait to try to spin the Queb...</td>\n",
              "      <td>News</td>\n",
              "      <td>January 31, 2017</td>\n",
              "      <td>2017-01-31</td>\n",
              "      <td>1</td>\n",
              "      <td>2017</td>\n",
              "      <td>31</td>\n",
              "    </tr>\n",
              "    <tr>\n",
              "      <th>2751</th>\n",
              "      <td>WATCH: Jake Tapper STUNNED Into Disbelief Lis...</td>\n",
              "      <td>Sean Spicer is doing his level best to make en...</td>\n",
              "      <td>News</td>\n",
              "      <td>January 31, 2017</td>\n",
              "      <td>2017-01-31</td>\n",
              "      <td>1</td>\n",
              "      <td>2017</td>\n",
              "      <td>31</td>\n",
              "    </tr>\n",
              "    <tr>\n",
              "      <th>2752</th>\n",
              "      <td>An Anonymous Group Just Revealed The Direct P...</td>\n",
              "      <td>Just after Donald Trump was sworn in, his admi...</td>\n",
              "      <td>News</td>\n",
              "      <td>January 31, 2017</td>\n",
              "      <td>2017-01-31</td>\n",
              "      <td>1</td>\n",
              "      <td>2017</td>\n",
              "      <td>31</td>\n",
              "    </tr>\n",
              "    <tr>\n",
              "      <th>2753</th>\n",
              "      <td>Trump Jr. Just ‘Liked’ Tweet Praising Mosque ...</td>\n",
              "      <td>When it comes to how shameless the Trump famil...</td>\n",
              "      <td>News</td>\n",
              "      <td>January 31, 2017</td>\n",
              "      <td>2017-01-31</td>\n",
              "      <td>1</td>\n",
              "      <td>2017</td>\n",
              "      <td>31</td>\n",
              "    </tr>\n",
              "    <tr>\n",
              "      <th>...</th>\n",
              "      <td>...</td>\n",
              "      <td>...</td>\n",
              "      <td>...</td>\n",
              "      <td>...</td>\n",
              "      <td>...</td>\n",
              "      <td>...</td>\n",
              "      <td>...</td>\n",
              "      <td>...</td>\n",
              "    </tr>\n",
              "    <tr>\n",
              "      <th>23076</th>\n",
              "      <td>SOUR GRAPES? Whatever happened to the ‘smooth ...</td>\n",
              "      <td>Andrew Malcolm McClatchy News You better stop...</td>\n",
              "      <td>Middle-east</td>\n",
              "      <td>January 3, 2017</td>\n",
              "      <td>2017-01-03</td>\n",
              "      <td>1</td>\n",
              "      <td>2017</td>\n",
              "      <td>3</td>\n",
              "    </tr>\n",
              "    <tr>\n",
              "      <th>23077</th>\n",
              "      <td>HACKING DEMOCRACY? CIA Accusing Russia of Doin...</td>\n",
              "      <td>Peter Certo Other WordsEven in an election yea...</td>\n",
              "      <td>Middle-east</td>\n",
              "      <td>January 3, 2017</td>\n",
              "      <td>2017-01-03</td>\n",
              "      <td>1</td>\n",
              "      <td>2017</td>\n",
              "      <td>3</td>\n",
              "    </tr>\n",
              "    <tr>\n",
              "      <th>23078</th>\n",
              "      <td>Good News for Silver in 2017</td>\n",
              "      <td>James Burgess Oil PricePrecious metals are an...</td>\n",
              "      <td>Middle-east</td>\n",
              "      <td>January 3, 2017</td>\n",
              "      <td>2017-01-03</td>\n",
              "      <td>1</td>\n",
              "      <td>2017</td>\n",
              "      <td>3</td>\n",
              "    </tr>\n",
              "    <tr>\n",
              "      <th>23079</th>\n",
              "      <td>Gerald Celente: Top 10 Trends for 2017</td>\n",
              "      <td>What can we expect in 2017? Inflated markets, ...</td>\n",
              "      <td>Middle-east</td>\n",
              "      <td>January 2, 2017</td>\n",
              "      <td>2017-01-02</td>\n",
              "      <td>1</td>\n",
              "      <td>2017</td>\n",
              "      <td>2</td>\n",
              "    </tr>\n",
              "    <tr>\n",
              "      <th>23080</th>\n",
              "      <td>CNN’s Don Lemon: Is He an Alcoholic or Just a ...</td>\n",
              "      <td>Day in and day out, CNN works hard to try and ...</td>\n",
              "      <td>Middle-east</td>\n",
              "      <td>January 2, 2017</td>\n",
              "      <td>2017-01-02</td>\n",
              "      <td>1</td>\n",
              "      <td>2017</td>\n",
              "      <td>2</td>\n",
              "    </tr>\n",
              "  </tbody>\n",
              "</table>\n",
              "<p>1029 rows × 8 columns</p>\n",
              "</div>\n",
              "      <button class=\"colab-df-convert\" onclick=\"convertToInteractive('df-9cb78ac1-9ec3-4067-9b32-b453c7e9c500')\"\n",
              "              title=\"Convert this dataframe to an interactive table.\"\n",
              "              style=\"display:none;\">\n",
              "        \n",
              "  <svg xmlns=\"http://www.w3.org/2000/svg\" height=\"24px\"viewBox=\"0 0 24 24\"\n",
              "       width=\"24px\">\n",
              "    <path d=\"M0 0h24v24H0V0z\" fill=\"none\"/>\n",
              "    <path d=\"M18.56 5.44l.94 2.06.94-2.06 2.06-.94-2.06-.94-.94-2.06-.94 2.06-2.06.94zm-11 1L8.5 8.5l.94-2.06 2.06-.94-2.06-.94L8.5 2.5l-.94 2.06-2.06.94zm10 10l.94 2.06.94-2.06 2.06-.94-2.06-.94-.94-2.06-.94 2.06-2.06.94z\"/><path d=\"M17.41 7.96l-1.37-1.37c-.4-.4-.92-.59-1.43-.59-.52 0-1.04.2-1.43.59L10.3 9.45l-7.72 7.72c-.78.78-.78 2.05 0 2.83L4 21.41c.39.39.9.59 1.41.59.51 0 1.02-.2 1.41-.59l7.78-7.78 2.81-2.81c.8-.78.8-2.07 0-2.86zM5.41 20L4 18.59l7.72-7.72 1.47 1.35L5.41 20z\"/>\n",
              "  </svg>\n",
              "      </button>\n",
              "      \n",
              "  <style>\n",
              "    .colab-df-container {\n",
              "      display:flex;\n",
              "      flex-wrap:wrap;\n",
              "      gap: 12px;\n",
              "    }\n",
              "\n",
              "    .colab-df-convert {\n",
              "      background-color: #E8F0FE;\n",
              "      border: none;\n",
              "      border-radius: 50%;\n",
              "      cursor: pointer;\n",
              "      display: none;\n",
              "      fill: #1967D2;\n",
              "      height: 32px;\n",
              "      padding: 0 0 0 0;\n",
              "      width: 32px;\n",
              "    }\n",
              "\n",
              "    .colab-df-convert:hover {\n",
              "      background-color: #E2EBFA;\n",
              "      box-shadow: 0px 1px 2px rgba(60, 64, 67, 0.3), 0px 1px 3px 1px rgba(60, 64, 67, 0.15);\n",
              "      fill: #174EA6;\n",
              "    }\n",
              "\n",
              "    [theme=dark] .colab-df-convert {\n",
              "      background-color: #3B4455;\n",
              "      fill: #D2E3FC;\n",
              "    }\n",
              "\n",
              "    [theme=dark] .colab-df-convert:hover {\n",
              "      background-color: #434B5C;\n",
              "      box-shadow: 0px 1px 3px 1px rgba(0, 0, 0, 0.15);\n",
              "      filter: drop-shadow(0px 1px 2px rgba(0, 0, 0, 0.3));\n",
              "      fill: #FFFFFF;\n",
              "    }\n",
              "  </style>\n",
              "\n",
              "      <script>\n",
              "        const buttonEl =\n",
              "          document.querySelector('#df-9cb78ac1-9ec3-4067-9b32-b453c7e9c500 button.colab-df-convert');\n",
              "        buttonEl.style.display =\n",
              "          google.colab.kernel.accessAllowed ? 'block' : 'none';\n",
              "\n",
              "        async function convertToInteractive(key) {\n",
              "          const element = document.querySelector('#df-9cb78ac1-9ec3-4067-9b32-b453c7e9c500');\n",
              "          const dataTable =\n",
              "            await google.colab.kernel.invokeFunction('convertToInteractive',\n",
              "                                                     [key], {});\n",
              "          if (!dataTable) return;\n",
              "\n",
              "          const docLinkHtml = 'Like what you see? Visit the ' +\n",
              "            '<a target=\"_blank\" href=https://colab.research.google.com/notebooks/data_table.ipynb>data table notebook</a>'\n",
              "            + ' to learn more about interactive tables.';\n",
              "          element.innerHTML = '';\n",
              "          dataTable['output_type'] = 'display_data';\n",
              "          await google.colab.output.renderOutput(dataTable, element);\n",
              "          const docLink = document.createElement('div');\n",
              "          docLink.innerHTML = docLinkHtml;\n",
              "          element.appendChild(docLink);\n",
              "        }\n",
              "      </script>\n",
              "    </div>\n",
              "  </div>\n",
              "  "
            ]
          },
          "metadata": {},
          "execution_count": 43
        }
      ]
    },
    {
      "cell_type": "code",
      "source": [
        "short_real = real[(real.year == 2017) & (real.month == 1)]"
      ],
      "metadata": {
        "id": "pB_A1cC33BFt"
      },
      "execution_count": 42,
      "outputs": []
    },
    {
      "cell_type": "code",
      "source": [
        "# %time real_docs = short_real.title.apply(nlp)\n",
        "# type(real_docs.iloc[0])\n",
        "t = 7.14 # place real time here\n",
        "(t/len(real_docs))*len(real)"
      ],
      "metadata": {
        "id": "GuoKfJXC3E2z",
        "colab": {
          "base_uri": "https://localhost:8080/"
        },
        "outputId": "80634a9f-3647-4cd1-c1e0-74050d28e10d"
      },
      "execution_count": 50,
      "outputs": [
        {
          "output_type": "execute_result",
          "data": {
            "text/plain": [
              "203.88983999999996"
            ]
          },
          "metadata": {},
          "execution_count": 50
        }
      ]
    },
    {
      "cell_type": "code",
      "source": [
        "%time fake_docs = short_fake.title.apply(nlp)"
      ],
      "metadata": {
        "id": "i9I_9EZy7Xxz",
        "colab": {
          "base_uri": "https://localhost:8080/"
        },
        "outputId": "5a4f2bf2-d2df-43a0-9e4d-4dadf184ad4d"
      },
      "execution_count": 51,
      "outputs": [
        {
          "output_type": "stream",
          "name": "stdout",
          "text": [
            "CPU times: user 11.7 s, sys: 80.9 ms, total: 11.8 s\n",
            "Wall time: 12.2 s\n"
          ]
        }
      ]
    },
    {
      "cell_type": "code",
      "source": [
        "# doc = fake_docs.iloc[0]\n",
        "# print([t.text for t in doc]) # tokenized text of the document\n",
        "# print([t.lemma_ for t in doc]) # lemmatized text of the document\n",
        "# print([t.pos_ for t in doc]) # Part of speech for all tokens in the document\n",
        "# print([t.tag_ for t in doc]) # Fine-grained part of speech for all tokens in the document\n",
        "# print(spacy.explain('VBN')) # making sense out of the spacy acronyms\n",
        "# print([c for c in doc.noun_chunks]) # All the noun phrases in the document\n",
        "print(len([doc for doc in fake_docs if round(doc._.blob.polarity, 2)  < -.9])) # Sentiment analysis of the document. <0 means negative >0 means positive. \n",
        "print(len([doc for doc in real_docs if round(doc._.blob.polarity, 2) < -.9]))\n",
        "\n",
        "print(len([doc for doc in fake_docs if round(doc._.blob.polarity, 2)  > .9])) # Sentiment analysis of the document. <0 means negative >0 means positive. \n",
        "print(len([doc for doc in real_docs if round(doc._.blob.polarity, 2) > .9]))\n"
      ],
      "metadata": {
        "colab": {
          "base_uri": "https://localhost:8080/"
        },
        "id": "lYiD8-1a7f43",
        "outputId": "42e24f1f-9cf9-4113-cd8e-f2d476c59c4e"
      },
      "execution_count": 53,
      "outputs": [
        {
          "output_type": "stream",
          "name": "stdout",
          "text": [
            "22\n",
            "1\n",
            "18\n",
            "1\n"
          ]
        }
      ]
    },
    {
      "cell_type": "code",
      "source": [
        "text = 'The big furry cat ate the little brown mouse.'\n",
        "doc = nlp(text)\n",
        "print([n for n in doc.noun_chunks])"
      ],
      "metadata": {
        "colab": {
          "base_uri": "https://localhost:8080/"
        },
        "id": "MtxYdGcWoNic",
        "outputId": "7dd40a1b-6062-4eed-cdb8-26134f6c4d97"
      },
      "execution_count": null,
      "outputs": [
        {
          "output_type": "stream",
          "name": "stdout",
          "text": [
            "[The big furry cat, the little brown mouse]\n"
          ]
        }
      ]
    },
    {
      "cell_type": "code",
      "source": [
        "from collections import Counter\n",
        "\n",
        "c = Counter(['a', 'a', 'b', 'b', 'b'])\n",
        "print(c)\n",
        "def count_nouns(doc):\n",
        "  nouns = [\n",
        "      token.lemma_ for token in doc if \n",
        "            (not token.is_stop and\n",
        "             not token.is_punct and\n",
        "             token.tag_ == \"NNPS\")]\n",
        "  word_freq = Counter(nouns)\n",
        "  return word_freq\n",
        "\n",
        "counts = real_docs.apply(count_nouns).sum().most_common(20)\n",
        "print(counts)\n",
        "# # print(fake_docs.apply(count_nouns).sum().most_common(20))"
      ],
      "metadata": {
        "colab": {
          "base_uri": "https://localhost:8080/"
        },
        "id": "i6wGAhvM86em",
        "outputId": "4932e1dc-741c-4efc-974c-b59b8d383de8"
      },
      "execution_count": 54,
      "outputs": [
        {
          "output_type": "stream",
          "name": "stdout",
          "text": [
            "Counter({'b': 3, 'a': 2})\n"
          ]
        }
      ]
    }
  ]
}