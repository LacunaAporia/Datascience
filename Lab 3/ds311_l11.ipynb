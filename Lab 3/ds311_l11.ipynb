{
  "nbformat": 4,
  "nbformat_minor": 0,
  "metadata": {
    "colab": {
      "provenance": [],
      "collapsed_sections": []
    },
    "kernelspec": {
      "name": "python3",
      "display_name": "Python 3"
    },
    "language_info": {
      "name": "python"
    }
  },
  "cells": [
    {
      "cell_type": "markdown",
      "source": [
        "### Numerical Normalization\n",
        "\n",
        "- Numerical data values are often wildly different in magnitude from column to column; depends on units and what is being measured\n",
        "- It can help to *normalize* them into well-known, well-behaved ranges\n",
        "  - Especially helpful for some predictive models\n",
        "\n",
        "#### Types of normalization\n",
        "- Standardization: makes a dataset zero-mean, unit-variance ($\\sigma^2=1$, also means that $\\sigma=1$).\n",
        "$$ \\hat{x}_i = \\frac{x_i -\\mu}{\\sigma}$$\n",
        "- These \"z-scores\" have some nice interpretability:\n",
        "  - $\\hat{x}_i < 0$, smaller than average\n",
        "  - $\\hat{x}_i > 0$, greater than average\n",
        "  - $\\hat{x}_i > 1$, more than one standard deviation above average\n",
        "  - etc.\n",
        "  - Can give context to how normal or anomalous a datapoint is\n",
        "\n",
        "![bell](https://drive.google.com/uc?id=18c-aDxZ28KM7V0T5jbLc-bsdq6m2KGQD)\n",
        "\n"
      ],
      "metadata": {
        "id": "86a2O4qLIw3r"
      }
    },
    {
      "cell_type": "markdown",
      "source": [
        "- 0-1 normalization\n",
        "$$ \\hat{x}_i = \\frac{x_i - x_{min}}{x_{max}-x_{min}}$$\n",
        "  - Here $x_{max}$ and $x_{min}$ are the max/min values observed in the dataset -- ***or*** a theoretical min or max.\n",
        "  - Warning: if a new datapoint comes along and you use the same mapping, can get values that are $<0$ or $>1$.\n",
        "- To make values non-negative, can exponentiate:\n",
        "$$ \\hat{x}_i = e^{x_i}$$\n",
        "  - $x_i \\to -\\infty$, normalized value approaches 0"
      ],
      "metadata": {
        "id": "J5MCBn-KJOSm"
      }
    },
    {
      "cell_type": "code",
      "source": [
        "import pandas as pd\n",
        "import seaborn as sns"
      ],
      "metadata": {
        "id": "UmVi6epgJ4qN"
      },
      "execution_count": null,
      "outputs": []
    },
    {
      "cell_type": "code",
      "source": [
        "data_url = \"https://fw.cs.wwu.edu/~wehrwes/courses/data311_21f/data/NHANES/NHANES.csv\"\n",
        "cols_renamed = {\"SEQN\": \"SEQN\",\n",
        "                \"RIAGENDR\": \"Gender\", # 1 = M, 2 = F\n",
        "                \"RIDAGEYR\": \"Age\", # years\n",
        "                \"BMXWT\": \"Weight\", # kg\n",
        "                \"BMXHT\": \"Height\", # cm\n",
        "                \"BMXLEG\": \"Leg\", # cm\n",
        "                \"BMXARML\": \"Arm\", # cm\n",
        "                \"BMXARMC\": \"Arm Cir\", # cm\n",
        "                \"BMXWAIST\": \"Waist Cir\"} # cm\n",
        "\n",
        "df = pd.read_csv(data_url)\n",
        "df = df.rename(cols_renamed, axis='columns')\n",
        "df = df.drop(\"SEQN\", axis='columns')\n",
        "df = df[df[\"Age\"] >= 21]"
      ],
      "metadata": {
        "id": "TMQrapnxJ9IR"
      },
      "execution_count": null,
      "outputs": []
    },
    {
      "cell_type": "code",
      "source": [
        "# is an arm circumference of 40 (cm) big, little? \n",
        "\n",
        "mean = df['Arm Cir'].mean()\n",
        "std  = df['Arm Cir'].std()\n",
        "(20-mean)/std"
      ],
      "metadata": {
        "colab": {
          "base_uri": "https://localhost:8080/"
        },
        "id": "XqXzi36SM5vw",
        "outputId": "a18f398d-96ed-4a75-add7-5799b043788d"
      },
      "execution_count": null,
      "outputs": [
        {
          "output_type": "execute_result",
          "data": {
            "text/plain": [
              "-2.5392403094656117"
            ]
          },
          "metadata": {},
          "execution_count": 9
        }
      ]
    },
    {
      "cell_type": "code",
      "source": [
        "sns.histplot(df['Arm Cir'])"
      ],
      "metadata": {
        "colab": {
          "base_uri": "https://localhost:8080/",
          "height": 296
        },
        "id": "2xuuaY3wM-5b",
        "outputId": "38ad994c-18ba-4b5e-aaf7-46b6c6c56a50"
      },
      "execution_count": null,
      "outputs": [
        {
          "output_type": "execute_result",
          "data": {
            "text/plain": [
              "<matplotlib.axes._subplots.AxesSubplot at 0x7f532c382b50>"
            ]
          },
          "metadata": {},
          "execution_count": 10
        },
        {
          "output_type": "display_data",
          "data": {
            "text/plain": [
              "<Figure size 432x288 with 1 Axes>"
            ],
            "image/png": "[encoded data removed]"
          },
          "metadata": {
            "needs_background": "light"
          }
        }
      ]
    },
    {
      "cell_type": "markdown",
      "source": [
        "### Linear Algebra Essentials Part 1\n",
        "\n",
        "We will talk about *vectors*. Vectors are sort of like math pandas Series.\n",
        "\n",
        "#### Vectors\n",
        "- A vector is an ordered sequence of numbers\n",
        "- Notation:\n",
        "  - $x \\in A$ means that element $x$ is in set $A$\n",
        "  - If $x \\in \\mathbb{R}^D$ then $x$ is a vector of $D$ real numbers\n",
        "    - I.e., $\\mathbb{R}^D$ is the set of real-valued, D-dimensional vectors\n",
        "  - If $x \\in \\mathbb{Z}^D$, $x$ is a vector of $D$ integers\n",
        "    - I.e., $\\mathbb{Z}^D$ is the set of D-dimensional, integer-valued vectors\n",
        "- Geometric interpretation\n",
        "  - $x \\in \\mathbb{R}$ ($D=1$, aka $x$ is a scalar) then $x$ is a point along the real line\n",
        "  - $x \\in \\mathbb{R}^2$ is a point on a 2d dim plane\n",
        "  - $x \\in \\mathbb{R}^3$ is a point in 3d space\n",
        "  - etc.\n",
        "  - Can also be thought of as a direction. \n",
        "- Note: by default, we will assume $x$ is a *column vector*: D elements high by 1 element wide\n",
        "  - You can transpose $x$, denoted $x^T$ which turns it into a *row vector* (i.e., 1 element high by D elements wide).\n",
        "  - For math: we assume column vector by default\n",
        "  - For machine learning libraries: often assume row vector by default\n",
        "- What can you do to/with vectors?\n",
        "  - For the following, assume $x,y,z \\in \\mathbb{R}^D$\n",
        "  - Index into them: $x_i$ is the $i$th element of $x$, assuming $i \\in \\{1,2,\\dots,D\\}$.\n",
        "  - Add or subtract them (element-wise), assuming they have the same dim\n",
        "    - $ z = x + y$ means $z_i = x_i + y_i$ for $i = 1,2,\\dots,D$.\n",
        "  - Multiply by a scalar\n",
        "    - $z = ax$ where $a \\in \\mathbb{R}$, then $z_i = a  x_i$.\n",
        "  - Compute the inner product (or dot product) between two vectors: $x^T y = \\sum_{i=1}^D x_i y_i$.\n",
        "  - Compute the length of a vector: $\\Vert x \\Vert_2 = \\sqrt{x^T x} = \\sqrt{\\sum_{i=1}^D x_i^2}$.\n",
        "    - This is known as the $\\ell_2$ norm (Euclidean norm) of the vector.\n",
        "  - Compute the Euclidean distance between two vectors: $\\Vert x-y \\Vert_2$.  "
      ],
      "metadata": {
        "id": "LNKCoSDoNHM5"
      }
    },
    {
      "cell_type": "code",
      "source": [],
      "metadata": {
        "id": "-T5ZcsZZR6HK"
      },
      "execution_count": null,
      "outputs": []
    }
  ]
}