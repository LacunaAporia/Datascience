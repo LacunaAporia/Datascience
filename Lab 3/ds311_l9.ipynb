{
  "nbformat": 4,
  "nbformat_minor": 0,
  "metadata": {
    "colab": {
      "provenance": [],
      "collapsed_sections": []
    },
    "kernelspec": {
      "name": "python3",
      "display_name": "Python 3"
    },
    "language_info": {
      "name": "python"
    }
  },
  "cells": [
    {
      "cell_type": "markdown",
      "source": [
        "+ Questions about the lab\n",
        "+ Missing values\n",
        "+ Outliers\n",
        "+ Data inconsistency"
      ],
      "metadata": {
        "id": "RD2oat1r1RPm"
      }
    },
    {
      "cell_type": "markdown",
      "source": [
        "# Missing values\n",
        "- Examples\n",
        "  - Hourly rows for daily/monthly columns in the weather data\n",
        "  - Missing date of death for people who are still alive\n",
        "  - Missing responses on surveys\n",
        "\n",
        "***Other examples of missing values?***\n",
        "\n",
        "***Ideas for handling missing values***\n"
      ],
      "metadata": {
        "id": "b48Cht-OEEK5"
      }
    },
    {
      "cell_type": "markdown",
      "source": [
        "Handling missing values\n",
        "\n",
        "  - Sometimes the answer is to replace it with 0, but not often\n",
        "    - Depends on the type of missing value\n",
        "    - Throwing in some other special value (e.g., -1, 99999) is rarely any better\n",
        "  - Dropping missing values is sometimes the answer, but not always \n",
        "    - It was fine to drop the Daily *Precipitiation* values from the hourly rows in the weather csv\n",
        "  - (Often) better solution: imputation (filling in missing data)\n",
        "    - Mean value: replace all missing values with the mean of the non-missing data\n",
        "      - Can be safe / low-impact imputation strategy\n",
        "      - Can introduce problems; e.g., would not work for imputing date of death\n",
        "    - Random value: pick a random non-missing value\n",
        "      - Advantage: drawing from the existing (empirical) distribution of values\n",
        "      - Strategy: randomly impute missing values several times, and see the extent to which it changes your analysis -- if too much, that's a red flag.\n",
        "    - Nearest neighbor: pick the \"closest row\" based on the non-missing values, and use it's value for the missing one.\n",
        "    - Interpolate from non-missing values (e.g., via linear regression). That is, \"learn\" a function that takes the non-missing values and predicts the missing value.\n",
        "      - Can work well; can also create outliers\n",
        "    - Heuristic values. E.g., missing year of death? Add 80 years to the date of birth."
      ],
      "metadata": {
        "id": "X2C96a2Yb0xD"
      }
    },
    {
      "cell_type": "markdown",
      "source": [
        "# Outliers\n",
        "\n",
        "- An outlier is a datapoint that is significantly separated from the main body of observations/data\n",
        "- Several causes:\n",
        "  - They can actual, valid observations/measurement. \n",
        "    - The \"heavier tail\" the distribution that the data comes from is, the more likely these are to appear. \"Heavy tail\" has more likelihood of things far from the mean appearing.\n",
        "  - Data entry errors; e.g., punching in the wrong numbers\n",
        "  - Fraud; e.g., tampering with the data\n",
        "  - Instrument error; e.g., malfunctioning sensor\n",
        "  - Imputation gone awry\n",
        "*italicized text*\n",
        "  "
      ],
      "metadata": {
        "id": "HLf0zB5VIsEm"
      }
    },
    {
      "cell_type": "markdown",
      "source": [
        "### Handling Outliers\n",
        "- How to detect?\n",
        "  - Visual inspection (e.g., make a histogram)\n",
        "  - Look at the min/max values, verify them\n",
        "  - Flag values more $k$ standard deviations from the mean (e.g., $k=1,2,3$).\n",
        "- How to handle them?\n",
        "  - Use methods that are robust to outliers (e.g., median over mean)\n",
        "  - Exclude/drop them (not preferred unless they were due to errors)\n",
        "    - In some cases, outliers may be the most important (e.g., earthquakes and building standards, flood mitigation)"
      ],
      "metadata": {
        "id": "l975nZi_bD4G"
      }
    },
    {
      "cell_type": "markdown",
      "source": [
        "### Consistency Issues\n",
        "\n",
        "Can arise even within a single dataset, but are even more likely when combining information from multiple datasets. Can corrupt/invalidate your resulsts.\n",
        "\n",
        "- Units\n",
        "  - Know what your units are!\n",
        "    - Common issues: English vs metric units\n",
        "  - Stick to one set of units if at possible\n",
        "  - To infer or detect issues, plot histograms, otherwise visualize\n",
        "- Numerical representations\n",
        "  - E.g., 16.5 vs 16 1/2 vs 16 vs sixteen\n",
        "  - Resist temptation to \"round\" floats into integers (floats are your friend)\n",
        "- Currency/financial unification\n",
        "  - Different currencies, may need to apply exchange rates\n",
        "  - Account for inflation\n",
        "  - Stock splits\n",
        "\n",
        " Note:\n",
        " - Good practice to create new columns to store the transformed data, so you have a paper-trail of how the consistency issues were addressed.\n",
        "\n",
        "***Question: what are some other consistency issues we might encounter? Brainstorm and compare notes with those around you.***\n"
      ],
      "metadata": {
        "id": "4ZhgsuOEbGiG"
      }
    },
    {
      "cell_type": "markdown",
      "source": [
        "## Text data\n",
        "\n",
        "### [Kaggle fake news dataset](https://www.kaggle.com/datasets/clmentbisaillon/fake-and-real-news-dataset?resource=download)\n",
        "\n",
        "### [Spacy tutorial 1](https://www.kaggle.com/code/sudalairajkumar/getting-started-with-spacy)\n",
        "\n",
        "### [Spacy tutorial 2](https://towardsdatascience.com/analysis-and-visualization-of-unstructured-text-data-2de07d9adc84)\n",
        "\n"
      ],
      "metadata": {
        "id": "U_ydrGp7culc"
      }
    },
    {
      "cell_type": "code",
      "source": [
        "import pandas as pd\n"
      ],
      "metadata": {
        "id": "wRyZ9Ps9cr4i"
      },
      "execution_count": null,
      "outputs": []
    },
    {
      "cell_type": "code",
      "source": [
        "fake = pd.read_csv('Fake.csv')\n",
        "real = pd.read_csv('True.csv')"
      ],
      "metadata": {
        "id": "ji0XPCVWgh_7"
      },
      "execution_count": null,
      "outputs": []
    },
    {
      "cell_type": "code",
      "source": [
        "fake.head()"
      ],
      "metadata": {
        "id": "MS6tUt6XhP9B",
        "colab": {
          "base_uri": "https://localhost:8080/",
          "height": 337
        },
        "outputId": "86e7fed5-753a-4b8a-c127-b3240f8511e5"
      },
      "execution_count": null,
      "outputs": [
        {
          "output_type": "execute_result",
          "data": {
            "text/plain": [
              "                                               title  \\\n",
              "0   Donald Trump Sends Out Embarrassing New Year’...   \n",
              "1   Drunk Bragging Trump Staffer Started Russian ...   \n",
              "2   Sheriff David Clarke Becomes An Internet Joke...   \n",
              "3   Trump Is So Obsessed He Even Has Obama’s Name...   \n",
              "4   Pope Francis Just Called Out Donald Trump Dur...   \n",
              "\n",
              "                                                text subject  \\\n",
              "0  Donald Trump just couldn t wish all Americans ...    News   \n",
              "1  House Intelligence Committee Chairman Devin Nu...    News   \n",
              "2  On Friday, it was revealed that former Milwauk...    News   \n",
              "3  On Christmas day, Donald Trump announced that ...    News   \n",
              "4  Pope Francis used his annual Christmas Day mes...    News   \n",
              "\n",
              "                date  \n",
              "0  December 31, 2017  \n",
              "1  December 31, 2017  \n",
              "2  December 30, 2017  \n",
              "3  December 29, 2017  \n",
              "4  December 25, 2017  "
            ],
            "text/html": [
              "\n",
              "  <div id=\"df-17c44b6c-06d1-4982-a2e5-238364f8453c\">\n",
              "    <div class=\"colab-df-container\">\n",
              "      <div>\n",
              "<style scoped>\n",
              "    .dataframe tbody tr th:only-of-type {\n",
              "        vertical-align: middle;\n",
              "    }\n",
              "\n",
              "    .dataframe tbody tr th {\n",
              "        vertical-align: top;\n",
              "    }\n",
              "\n",
              "    .dataframe thead th {\n",
              "        text-align: right;\n",
              "    }\n",
              "</style>\n",
              "<table border=\"1\" class=\"dataframe\">\n",
              "  <thead>\n",
              "    <tr style=\"text-align: right;\">\n",
              "      <th></th>\n",
              "      <th>title</th>\n",
              "      <th>text</th>\n",
              "      <th>subject</th>\n",
              "      <th>date</th>\n",
              "    </tr>\n",
              "  </thead>\n",
              "  <tbody>\n",
              "    <tr>\n",
              "      <th>0</th>\n",
              "      <td>Donald Trump Sends Out Embarrassing New Year’...</td>\n",
              "      <td>Donald Trump just couldn t wish all Americans ...</td>\n",
              "      <td>News</td>\n",
              "      <td>December 31, 2017</td>\n",
              "    </tr>\n",
              "    <tr>\n",
              "      <th>1</th>\n",
              "      <td>Drunk Bragging Trump Staffer Started Russian ...</td>\n",
              "      <td>House Intelligence Committee Chairman Devin Nu...</td>\n",
              "      <td>News</td>\n",
              "      <td>December 31, 2017</td>\n",
              "    </tr>\n",
              "    <tr>\n",
              "      <th>2</th>\n",
              "      <td>Sheriff David Clarke Becomes An Internet Joke...</td>\n",
              "      <td>On Friday, it was revealed that former Milwauk...</td>\n",
              "      <td>News</td>\n",
              "      <td>December 30, 2017</td>\n",
              "    </tr>\n",
              "    <tr>\n",
              "      <th>3</th>\n",
              "      <td>Trump Is So Obsessed He Even Has Obama’s Name...</td>\n",
              "      <td>On Christmas day, Donald Trump announced that ...</td>\n",
              "      <td>News</td>\n",
              "      <td>December 29, 2017</td>\n",
              "    </tr>\n",
              "    <tr>\n",
              "      <th>4</th>\n",
              "      <td>Pope Francis Just Called Out Donald Trump Dur...</td>\n",
              "      <td>Pope Francis used his annual Christmas Day mes...</td>\n",
              "      <td>News</td>\n",
              "      <td>December 25, 2017</td>\n",
              "    </tr>\n",
              "  </tbody>\n",
              "</table>\n",
              "</div>\n",
              "      <button class=\"colab-df-convert\" onclick=\"convertToInteractive('df-17c44b6c-06d1-4982-a2e5-238364f8453c')\"\n",
              "              title=\"Convert this dataframe to an interactive table.\"\n",
              "              style=\"display:none;\">\n",
              "        \n",
              "  <svg xmlns=\"http://www.w3.org/2000/svg\" height=\"24px\"viewBox=\"0 0 24 24\"\n",
              "       width=\"24px\">\n",
              "    <path d=\"M0 0h24v24H0V0z\" fill=\"none\"/>\n",
              "    <path d=\"M18.56 5.44l.94 2.06.94-2.06 2.06-.94-2.06-.94-.94-2.06-.94 2.06-2.06.94zm-11 1L8.5 8.5l.94-2.06 2.06-.94-2.06-.94L8.5 2.5l-.94 2.06-2.06.94zm10 10l.94 2.06.94-2.06 2.06-.94-2.06-.94-.94-2.06-.94 2.06-2.06.94z\"/><path d=\"M17.41 7.96l-1.37-1.37c-.4-.4-.92-.59-1.43-.59-.52 0-1.04.2-1.43.59L10.3 9.45l-7.72 7.72c-.78.78-.78 2.05 0 2.83L4 21.41c.39.39.9.59 1.41.59.51 0 1.02-.2 1.41-.59l7.78-7.78 2.81-2.81c.8-.78.8-2.07 0-2.86zM5.41 20L4 18.59l7.72-7.72 1.47 1.35L5.41 20z\"/>\n",
              "  </svg>\n",
              "      </button>\n",
              "      \n",
              "  <style>\n",
              "    .colab-df-container {\n",
              "      display:flex;\n",
              "      flex-wrap:wrap;\n",
              "      gap: 12px;\n",
              "    }\n",
              "\n",
              "    .colab-df-convert {\n",
              "      background-color: #E8F0FE;\n",
              "      border: none;\n",
              "      border-radius: 50%;\n",
              "      cursor: pointer;\n",
              "      display: none;\n",
              "      fill: #1967D2;\n",
              "      height: 32px;\n",
              "      padding: 0 0 0 0;\n",
              "      width: 32px;\n",
              "    }\n",
              "\n",
              "    .colab-df-convert:hover {\n",
              "      background-color: #E2EBFA;\n",
              "      box-shadow: 0px 1px 2px rgba(60, 64, 67, 0.3), 0px 1px 3px 1px rgba(60, 64, 67, 0.15);\n",
              "      fill: #174EA6;\n",
              "    }\n",
              "\n",
              "    [theme=dark] .colab-df-convert {\n",
              "      background-color: #3B4455;\n",
              "      fill: #D2E3FC;\n",
              "    }\n",
              "\n",
              "    [theme=dark] .colab-df-convert:hover {\n",
              "      background-color: #434B5C;\n",
              "      box-shadow: 0px 1px 3px 1px rgba(0, 0, 0, 0.15);\n",
              "      filter: drop-shadow(0px 1px 2px rgba(0, 0, 0, 0.3));\n",
              "      fill: #FFFFFF;\n",
              "    }\n",
              "  </style>\n",
              "\n",
              "      <script>\n",
              "        const buttonEl =\n",
              "          document.querySelector('#df-17c44b6c-06d1-4982-a2e5-238364f8453c button.colab-df-convert');\n",
              "        buttonEl.style.display =\n",
              "          google.colab.kernel.accessAllowed ? 'block' : 'none';\n",
              "\n",
              "        async function convertToInteractive(key) {\n",
              "          const element = document.querySelector('#df-17c44b6c-06d1-4982-a2e5-238364f8453c');\n",
              "          const dataTable =\n",
              "            await google.colab.kernel.invokeFunction('convertToInteractive',\n",
              "                                                     [key], {});\n",
              "          if (!dataTable) return;\n",
              "\n",
              "          const docLinkHtml = 'Like what you see? Visit the ' +\n",
              "            '<a target=\"_blank\" href=https://colab.research.google.com/notebooks/data_table.ipynb>data table notebook</a>'\n",
              "            + ' to learn more about interactive tables.';\n",
              "          element.innerHTML = '';\n",
              "          dataTable['output_type'] = 'display_data';\n",
              "          await google.colab.output.renderOutput(dataTable, element);\n",
              "          const docLink = document.createElement('div');\n",
              "          docLink.innerHTML = docLinkHtml;\n",
              "          element.appendChild(docLink);\n",
              "        }\n",
              "      </script>\n",
              "    </div>\n",
              "  </div>\n",
              "  "
            ]
          },
          "metadata": {},
          "execution_count": 80
        }
      ]
    },
    {
      "cell_type": "code",
      "source": [
        "real['date'].head()"
      ],
      "metadata": {
        "id": "30psBgVAiUgT",
        "colab": {
          "base_uri": "https://localhost:8080/"
        },
        "outputId": "15845eb2-751c-407f-dc48-e533232b9688"
      },
      "execution_count": null,
      "outputs": [
        {
          "output_type": "execute_result",
          "data": {
            "text/plain": [
              "0    December 31, 2017 \n",
              "1    December 29, 2017 \n",
              "2    December 31, 2017 \n",
              "3    December 30, 2017 \n",
              "4    December 29, 2017 \n",
              "Name: date, dtype: object"
            ]
          },
          "metadata": {},
          "execution_count": 85
        }
      ]
    },
    {
      "cell_type": "code",
      "source": [
        "set([type(date) for date in fake['date']])\n",
        "f1 = '%B %d, %Y'\n",
        "f2 = '%d-%b-%y'"
      ],
      "metadata": {
        "id": "Ysgs-EIxiSMt"
      },
      "execution_count": null,
      "outputs": []
    },
    {
      "cell_type": "code",
      "source": [
        "datetimes = pd.to_datetime(fake['date'], errors='ignore', infer_datetime_format=True)"
      ],
      "metadata": {
        "id": "bXKUMywu9D0j"
      },
      "execution_count": null,
      "outputs": []
    },
    {
      "cell_type": "code",
      "source": [
        "set([type(date) for date in datetimes])\n"
      ],
      "metadata": {
        "colab": {
          "base_uri": "https://localhost:8080/"
        },
        "id": "ghNbo4ge-fGp",
        "outputId": "68acd43b-30dd-4bc9-f07b-122bf1062c67"
      },
      "execution_count": null,
      "outputs": [
        {
          "output_type": "execute_result",
          "data": {
            "text/plain": [
              "{str}"
            ]
          },
          "metadata": {},
          "execution_count": 93
        }
      ]
    },
    {
      "cell_type": "code",
      "source": [
        "formats = {1: '%d-%b-%y', 0: '%B %d, %Y', 2: '%b %d, %Y'}\n",
        "# fake.iloc[9358]\n",
        "from datetime import datetime\n",
        "dates = []\n",
        "# fake.drop([9358])\n",
        "bad = []\n",
        "for i, date in enumerate(fake['date']):\n",
        "  try:\n",
        "    if date[0].isdigit():\n",
        "      f = formats[1]\n",
        "    elif len(date.split()[0].strip()) > 3:\n",
        "      f = formats[0]\n",
        "    else:\n",
        "      f = formats[2]\n",
        "    dates.append(datetime.strptime(date.strip(), f))\n",
        "  except:\n",
        "    bad.append([date, format, i])"
      ],
      "metadata": {
        "id": "wPaoFqV2irf-"
      },
      "execution_count": null,
      "outputs": []
    },
    {
      "cell_type": "code",
      "source": [
        "bad"
      ],
      "metadata": {
        "colab": {
          "base_uri": "https://localhost:8080/"
        },
        "id": "rsW6FsRqjiNj",
        "outputId": "f178dc8f-a11e-424d-9940-6669ee05cf7f"
      },
      "execution_count": null,
      "outputs": [
        {
          "output_type": "execute_result",
          "data": {
            "text/plain": [
              "[['https://100percentfedup.com/served-roy-moore-vietnamletter-veteran-sets-record-straight-honorable-decent-respectable-patriotic-commander-soldier/',\n",
              "  <function format(value, format_spec='', /)>,\n",
              "  9358],\n",
              " ['https://100percentfedup.com/video-hillary-asked-about-trump-i-just-want-to-eat-some-pie/',\n",
              "  <function format(value, format_spec='', /)>,\n",
              "  15507],\n",
              " ['https://100percentfedup.com/12-yr-old-black-conservative-whose-video-to-obama-went-viral-do-you-really-love-america-receives-death-threats-from-left/',\n",
              "  <function format(value, format_spec='', /)>,\n",
              "  15508],\n",
              " ['https://fedup.wpengine.com/wp-content/uploads/2015/04/hillarystreetart.jpg',\n",
              "  <function format(value, format_spec='', /)>,\n",
              "  15839],\n",
              " ['https://fedup.wpengine.com/wp-content/uploads/2015/04/entitled.jpg',\n",
              "  <function format(value, format_spec='', /)>,\n",
              "  15840],\n",
              " ['https://fedup.wpengine.com/wp-content/uploads/2015/04/hillarystreetart.jpg',\n",
              "  <function format(value, format_spec='', /)>,\n",
              "  17432],\n",
              " ['https://fedup.wpengine.com/wp-content/uploads/2015/04/entitled.jpg',\n",
              "  <function format(value, format_spec='', /)>,\n",
              "  17433],\n",
              " ['MSNBC HOST Rudely Assumes Steel Worker Would Never Let His Son Follow in His Footsteps…He Couldn’t Be More Wrong [Video]',\n",
              "  <function format(value, format_spec='', /)>,\n",
              "  18933],\n",
              " ['https://fedup.wpengine.com/wp-content/uploads/2015/04/hillarystreetart.jpg',\n",
              "  <function format(value, format_spec='', /)>,\n",
              "  21869],\n",
              " ['https://fedup.wpengine.com/wp-content/uploads/2015/04/entitled.jpg',\n",
              "  <function format(value, format_spec='', /)>,\n",
              "  21870]]"
            ]
          },
          "metadata": {},
          "execution_count": 95
        }
      ]
    },
    {
      "cell_type": "code",
      "source": [
        "fake = fake.drop([b[-1] for b in bad])"
      ],
      "metadata": {
        "id": "Txtn_hsbkcvm"
      },
      "execution_count": null,
      "outputs": []
    },
    {
      "cell_type": "code",
      "source": [
        "fake['Date'] = dates\n",
        "fake['month'] = pd.DatetimeIndex(dates).month\n",
        "fake['year'] = pd.DatetimeIndex(dates).year\n",
        "fake['day'] = pd.DatetimeIndex(dates).day\n",
        "fake.info()"
      ],
      "metadata": {
        "colab": {
          "base_uri": "https://localhost:8080/"
        },
        "id": "DxP1rq5Ls7KH",
        "outputId": "57664ace-9b14-431f-b2aa-88d36fae65f6"
      },
      "execution_count": null,
      "outputs": [
        {
          "output_type": "stream",
          "name": "stdout",
          "text": [
            "<class 'pandas.core.frame.DataFrame'>\n",
            "Int64Index: 23471 entries, 0 to 23480\n",
            "Data columns (total 8 columns):\n",
            " #   Column   Non-Null Count  Dtype         \n",
            "---  ------   --------------  -----         \n",
            " 0   title    23471 non-null  object        \n",
            " 1   text     23471 non-null  object        \n",
            " 2   subject  23471 non-null  object        \n",
            " 3   date     23471 non-null  object        \n",
            " 4   Date     23471 non-null  datetime64[ns]\n",
            " 5   month    23471 non-null  int64         \n",
            " 6   year     23471 non-null  int64         \n",
            " 7   day      23471 non-null  int64         \n",
            "dtypes: datetime64[ns](1), int64(3), object(4)\n",
            "memory usage: 1.6+ MB\n"
          ]
        }
      ]
    },
    {
      "cell_type": "code",
      "source": [
        "fake[fake.year>2024]"
      ],
      "metadata": {
        "colab": {
          "base_uri": "https://localhost:8080/",
          "height": 49
        },
        "id": "hXz5kO6xwpKU",
        "outputId": "96dc0d57-f963-494a-9a42-7626f541e396"
      },
      "execution_count": null,
      "outputs": [
        {
          "output_type": "execute_result",
          "data": {
            "text/plain": [
              "Empty DataFrame\n",
              "Columns: [title, text, subject, date, Date, month, year, day]\n",
              "Index: []"
            ],
            "text/html": [
              "\n",
              "  <div id=\"df-85fbcb9e-c8b7-4224-bf8b-6dbac07e60ef\">\n",
              "    <div class=\"colab-df-container\">\n",
              "      <div>\n",
              "<style scoped>\n",
              "    .dataframe tbody tr th:only-of-type {\n",
              "        vertical-align: middle;\n",
              "    }\n",
              "\n",
              "    .dataframe tbody tr th {\n",
              "        vertical-align: top;\n",
              "    }\n",
              "\n",
              "    .dataframe thead th {\n",
              "        text-align: right;\n",
              "    }\n",
              "</style>\n",
              "<table border=\"1\" class=\"dataframe\">\n",
              "  <thead>\n",
              "    <tr style=\"text-align: right;\">\n",
              "      <th></th>\n",
              "      <th>title</th>\n",
              "      <th>text</th>\n",
              "      <th>subject</th>\n",
              "      <th>date</th>\n",
              "      <th>Date</th>\n",
              "      <th>month</th>\n",
              "      <th>year</th>\n",
              "      <th>day</th>\n",
              "    </tr>\n",
              "  </thead>\n",
              "  <tbody>\n",
              "  </tbody>\n",
              "</table>\n",
              "</div>\n",
              "      <button class=\"colab-df-convert\" onclick=\"convertToInteractive('df-85fbcb9e-c8b7-4224-bf8b-6dbac07e60ef')\"\n",
              "              title=\"Convert this dataframe to an interactive table.\"\n",
              "              style=\"display:none;\">\n",
              "        \n",
              "  <svg xmlns=\"http://www.w3.org/2000/svg\" height=\"24px\"viewBox=\"0 0 24 24\"\n",
              "       width=\"24px\">\n",
              "    <path d=\"M0 0h24v24H0V0z\" fill=\"none\"/>\n",
              "    <path d=\"M18.56 5.44l.94 2.06.94-2.06 2.06-.94-2.06-.94-.94-2.06-.94 2.06-2.06.94zm-11 1L8.5 8.5l.94-2.06 2.06-.94-2.06-.94L8.5 2.5l-.94 2.06-2.06.94zm10 10l.94 2.06.94-2.06 2.06-.94-2.06-.94-.94-2.06-.94 2.06-2.06.94z\"/><path d=\"M17.41 7.96l-1.37-1.37c-.4-.4-.92-.59-1.43-.59-.52 0-1.04.2-1.43.59L10.3 9.45l-7.72 7.72c-.78.78-.78 2.05 0 2.83L4 21.41c.39.39.9.59 1.41.59.51 0 1.02-.2 1.41-.59l7.78-7.78 2.81-2.81c.8-.78.8-2.07 0-2.86zM5.41 20L4 18.59l7.72-7.72 1.47 1.35L5.41 20z\"/>\n",
              "  </svg>\n",
              "      </button>\n",
              "      \n",
              "  <style>\n",
              "    .colab-df-container {\n",
              "      display:flex;\n",
              "      flex-wrap:wrap;\n",
              "      gap: 12px;\n",
              "    }\n",
              "\n",
              "    .colab-df-convert {\n",
              "      background-color: #E8F0FE;\n",
              "      border: none;\n",
              "      border-radius: 50%;\n",
              "      cursor: pointer;\n",
              "      display: none;\n",
              "      fill: #1967D2;\n",
              "      height: 32px;\n",
              "      padding: 0 0 0 0;\n",
              "      width: 32px;\n",
              "    }\n",
              "\n",
              "    .colab-df-convert:hover {\n",
              "      background-color: #E2EBFA;\n",
              "      box-shadow: 0px 1px 2px rgba(60, 64, 67, 0.3), 0px 1px 3px 1px rgba(60, 64, 67, 0.15);\n",
              "      fill: #174EA6;\n",
              "    }\n",
              "\n",
              "    [theme=dark] .colab-df-convert {\n",
              "      background-color: #3B4455;\n",
              "      fill: #D2E3FC;\n",
              "    }\n",
              "\n",
              "    [theme=dark] .colab-df-convert:hover {\n",
              "      background-color: #434B5C;\n",
              "      box-shadow: 0px 1px 3px 1px rgba(0, 0, 0, 0.15);\n",
              "      filter: drop-shadow(0px 1px 2px rgba(0, 0, 0, 0.3));\n",
              "      fill: #FFFFFF;\n",
              "    }\n",
              "  </style>\n",
              "\n",
              "      <script>\n",
              "        const buttonEl =\n",
              "          document.querySelector('#df-85fbcb9e-c8b7-4224-bf8b-6dbac07e60ef button.colab-df-convert');\n",
              "        buttonEl.style.display =\n",
              "          google.colab.kernel.accessAllowed ? 'block' : 'none';\n",
              "\n",
              "        async function convertToInteractive(key) {\n",
              "          const element = document.querySelector('#df-85fbcb9e-c8b7-4224-bf8b-6dbac07e60ef');\n",
              "          const dataTable =\n",
              "            await google.colab.kernel.invokeFunction('convertToInteractive',\n",
              "                                                     [key], {});\n",
              "          if (!dataTable) return;\n",
              "\n",
              "          const docLinkHtml = 'Like what you see? Visit the ' +\n",
              "            '<a target=\"_blank\" href=https://colab.research.google.com/notebooks/data_table.ipynb>data table notebook</a>'\n",
              "            + ' to learn more about interactive tables.';\n",
              "          element.innerHTML = '';\n",
              "          dataTable['output_type'] = 'display_data';\n",
              "          await google.colab.output.renderOutput(dataTable, element);\n",
              "          const docLink = document.createElement('div');\n",
              "          docLink.innerHTML = docLinkHtml;\n",
              "          element.appendChild(docLink);\n",
              "        }\n",
              "      </script>\n",
              "    </div>\n",
              "  </div>\n",
              "  "
            ]
          },
          "metadata": {},
          "execution_count": 102
        }
      ]
    },
    {
      "cell_type": "markdown",
      "source": [
        "### Numerical Normalization\n",
        "\n",
        "- Numerical data values are often wildly different in magnitude from column to column; depends on units and what is being measured\n",
        "- It can help to *normalize* them into well-known, well-behaved ranges\n",
        "  - Especially helpful for some predictive models\n",
        "\n",
        "#### Types of normalization\n",
        "- Standardization: makes a dataset zero-mean, unit-variance ($\\sigma^2=1$, also means that $\\sigma=1$).\n",
        "$$ \\hat{x}_i = \\frac{x_i -\\mu}{\\sigma}$$\n",
        "- These \"z-scores\" have some nice interpretability:\n",
        "  - $\\hat{x}_i < 0$, smaller than average\n",
        "  - $\\hat{x}_i > 0$, greater than average\n",
        "  - $\\hat{x}_i > 1$, more than one standard deviation above average\n",
        "  - etc.\n",
        "  - Can give context to how normal or anomalous a datapoint is"
      ],
      "metadata": {
        "id": "CfdlODYotVnB"
      }
    },
    {
      "cell_type": "code",
      "source": [
        "import pandas as pd\n",
        "import seaborn as sns\n",
        "\n",
        "data_url = \"https://fw.cs.wwu.edu/~wehrwes/courses/data311_21f/data/NHANES/NHANES.csv\"\n",
        "cols_renamed = {\"SEQN\": \"SEQN\",\n",
        "                \"RIAGENDR\": \"Gender\", # 1 = M, 2 = F\n",
        "                \"RIDAGEYR\": \"Age\", # years\n",
        "                \"BMXWT\": \"Weight\", # kg\n",
        "                \"BMXHT\": \"Height\", # cm\n",
        "                \"BMXLEG\": \"Leg\", # cm\n",
        "                \"BMXARML\": \"Arm\", # cm\n",
        "                \"BMXARMC\": \"Arm Cir\", # cm\n",
        "                \"BMXWAIST\": \"Waist Cir\"} # cm\n",
        "\n",
        "df = pd.read_csv(data_url)\n",
        "df = df.rename(cols_renamed, axis='columns')\n",
        "df = df.drop(\"SEQN\", axis='columns')\n",
        "df = df[df[\"Age\"] >= 21]\n",
        "\n",
        "# is an arm circumference of 40 (cm) big, little? \n",
        "\n",
        "mean = df['Arm Cir'].mean()\n",
        "std  = df['Arm Cir'].std()\n",
        "print((20-mean)/std)\n",
        "sns.histplot(df['Arm Cir'])\n"
      ],
      "metadata": {
        "id": "yrvrOlizvQlx"
      },
      "execution_count": null,
      "outputs": []
    },
    {
      "cell_type": "markdown",
      "source": [
        "- 0-1 normalization\n",
        "$$ \\hat{x}_i = \\frac{x_i - x_{min}}{x_{max}-x_{min}}$$\n",
        "  - Here $x_{max}$ and $x_{min}$ are the max/min values observed in the dataset -- ***or*** a theoretical min or max.\n",
        "  - Warning: if a new datapoint comes along and you use the same mapping, can get values that are $<0$ or $>1$.\n",
        "- To make values non-negative, can exponentiate:\n",
        "$$ \\hat{x}_i = e^{x_i}$$\n",
        "  - $x_i \\to -\\infty$, normalized value approaches 0"
      ],
      "metadata": {
        "id": "1o2q6hCnzGll"
      }
    },
    {
      "cell_type": "code",
      "source": [],
      "metadata": {
        "id": "PnSFfDU7zN0J"
      },
      "execution_count": null,
      "outputs": []
    }
  ]
}