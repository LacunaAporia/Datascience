{
  "cells": [
    {
      "cell_type": "markdown",
      "id": "dec61e6b",
      "metadata": {
        "id": "dec61e6b"
      },
      "source": [
        "# Lecture 3: Big Ideas: Data Collection, Data Questions, Data Formats, Data types\n"
      ]
    },
    {
      "cell_type": "markdown",
      "source": [
        "## What do Data Scientists do?\n",
        "  * Produce case studies\n",
        "  * Try to figure out what data is meaningful?\n",
        "  * Applications like natural language processing (NLP), dynamic pricing, \n",
        "  * Collect, scrape, clean data\n",
        "  * Making recommendations\n",
        "  * Communicating with different departments, making sure the data is useful\n",
        "    * Making reports\n",
        "  * Discovering patterns, trends, insights \n",
        "  * Making predictions\n",
        "\n",
        "## What is data?\n",
        "  * Raw information collected about something, prior to analysis\n",
        "  * Quantifiable\n",
        "  * Large collections/sets of numbers, strings, dates, locations, symbols, characters"
      ],
      "metadata": {
        "id": "MeztaNaOB_fr"
      },
      "id": "MeztaNaOB_fr"
    },
    {
      "cell_type": "markdown",
      "id": "70c0de7d",
      "metadata": {
        "id": "70c0de7d"
      },
      "source": [
        "## Where to get data: Some ideas\n",
        "\n",
        "### Companies\n",
        " * Google ngrams: https://books.google.com/ngrams\n",
        " * API - \"application programming interfaces\" - a way to programmatically ask for data. Many companies/institutions, including:\n",
        "   * Twitter\n",
        "   * New York Times\n",
        "   * Facebook\n",
        "   * Uber\n",
        "\n",
        "### Universities\n",
        "- [Cornell Library Arxiv](https://arxiv.org/help/api/)\n",
        "-  [University of Washington](https://dcollab.uw.edu/)\n",
        "\n",
        "\n",
        "### Governments\n",
        " * https://www.data.gov/\n",
        " * https://data.wa.gov/\n",
        " * https://www.whatcomcounty.us/716/Data\n",
        " * https://www.google.com/search?q=city+of+bellingham+data\n",
        " * https://data.seattle.gov/\n",
        "\n",
        "### National Labs\n",
        "+ https://data.pnnl.gov/\n",
        "+ https://data.nrel.gov/\n",
        "\n",
        "### Scientists / academics\n",
        " * Have to search around - rarely available in centralized repositories; often not available.\n",
        "   + https://scholar.google.com/ is good for finding papers related to a subject\n",
        "   + Github\n",
        "   + Faculty web pages\n",
        "   + Conference workshop challenge datasets\n",
        "\n",
        "* Other data sciency people\n",
        " * Data science/ML contests\n",
        "   * https://www.kaggle.com/datasets\n",
        " * Data journalists:\n",
        "   * https://data.fivethirtyeight.com/\n",
        "   * https://open.nytimes.com/data/home\n",
        "\n",
        "### Collect/create it yourself\n",
        "- Personal devices\n",
        "  + Camera\n",
        "  + Phone\n",
        "- Survey\n",
        "- Web scraping\n",
        "- Synthetic data from a model\n",
        "\n",
        "## Why do institutions/individuals share data?\n",
        "+ Legal obligation\n",
        "+ Reproduce scientific/data science results \n",
        "+ Transparency\n",
        "+ Advantages in seeing what an open community will do with the data\n",
        "+ As a requirement/option for receiving some service\n",
        "\n",
        "\n",
        "\n"
      ]
    },
    {
      "cell_type": "markdown",
      "id": "83acc936",
      "metadata": {
        "id": "83acc936"
      },
      "source": [
        "## Asking interesting data questions\n",
        "\n",
        "* Consider this dataset:\n",
        " * IMDB: All things movies. https://www.imdb.com/interfaces/\n",
        "   * Films: title, duration, genre tags, date, cast, crew, user ratings, critic ratings, ...\n",
        "   * People (actors, directors, writers, producers, crew): appearances/credits, birth/death dates, height, awards, ...\n",
        " \n",
        "* Think-pair-share: Come up wtih one interesting question you might want to answer with the IMDB dataset.\n",
        "\n",
        "**Ideas from the class:**"
      ]
    },
    {
      "cell_type": "markdown",
      "id": "8a4d058a",
      "metadata": {
        "id": "8a4d058a"
      },
      "source": [
        "### Data formats\n",
        "\n",
        "1. CSV (our bread and butter)\n",
        " * example: [avengers.csv](https://facultyweb.cs.wwu.edu/~wehrwes/courses/data311_21f/data/avengers/avengers.csv), via https://github.com/fivethirtyeight/data/tree/master/avengers\n",
        " * Reading a CSV file in Python, 3 ways: https://www.youtube.com/watch?v=fbl8fMQ9tQM\n",
        " * See the arguments to [`pd.read_csv`](https://pandas.pydata.org/pandas-docs/stable/reference/api/pandas.read_csv.html) to see some of the craziness you can find in CSV files and some of the capabilities of pandas in reading them.\n",
        " * Variations: separators, quoting, headers or not, ...\n",
        " \n",
        "2. JSON: Javascript Object Notation (popular, especially for data with more nuanced structure)\n",
        " * Example: [SEA_building_energy.json](https://facultyweb.cs.wwu.edu/~wehrwes/courses/data311_21f/data/SEA_building_energy.json), via https://www.kaggle.com/city-of-seattle/sea-building-energy-benchmarking/version/8\n",
        "3. (SQL) - traditional databases; generally not human-readable, but exportable to JSON or CSV\n",
        "4. Language specific file formats: XML (excel), .npy (numpy), .pth (pytorch), .pkl (python), .mat (matlab)\n",
        "5. HDF5 Compressed file format for large sets of structured numerical data"
      ]
    },
    {
      "cell_type": "markdown",
      "source": [
        "### [Gazetteer](https://en.wikipedia.org/wiki/Gazetteer)\n",
        "Contains information concerning the geographical makeup, social statistics and physical features of a city, country, region, or continent.\n",
        "\n",
        "**[Geonames](https://www.geonames.org/)** \n",
        "\n",
        "The GeoNames geographical database covers all countries and contains over eleven million placenames. [Raw data](http://download.geonames.org/export/dump/)\n",
        "\n",
        "**[GDP Data by country](https://datahub.io/core/gdp)**\n",
        "\n",
        "Data science question: Find a snowbird vacation spot to live during the winter. Criteria are approximately opposite latitude, low cost of living, and a large population. We'll use GDP as a proxy for cost of living.  \n"
      ],
      "metadata": {
        "id": "KHCiBvlVL5sA"
      },
      "id": "KHCiBvlVL5sA"
    },
    {
      "cell_type": "markdown",
      "source": [
        "## Download and unzip the data we need to answer our question"
      ],
      "metadata": {
        "id": "jRR0exW-NHtd"
      },
      "id": "jRR0exW-NHtd"
    },
    {
      "cell_type": "code",
      "source": [
        "!wget http://download.geonames.org/export/dump/cities15000.zip -P sample_data/\n",
        "!unzip sample_data/cities15000.zip\n",
        "!wget http://download.geonames.org/export/dump/countryInfo.txt -P sample_data/\n",
        "!wget http://download.geonames.org/export/dump/readme.txt -P sample_data/\n",
        "!wget https://datahub.io/core/gdp/r/gdp.json -P sample_data/"
      ],
      "metadata": {
        "colab": {
          "base_uri": "https://localhost:8080/"
        },
        "id": "OEdaAZv9L9Tm",
        "outputId": "43f0188f-b35c-465d-d6d3-ad35b0590e24"
      },
      "id": "OEdaAZv9L9Tm",
      "execution_count": 6,
      "outputs": [
        {
          "output_type": "stream",
          "name": "stdout",
          "text": [
            "--2022-09-26 14:21:25--  http://download.geonames.org/export/dump/cities15000.zip\n",
            "Resolving download.geonames.org (download.geonames.org)... 5.9.152.54\n",
            "Connecting to download.geonames.org (download.geonames.org)|5.9.152.54|:80... connected.\n",
            "HTTP request sent, awaiting response... 200 OK\n",
            "Length: 2464254 (2.3M) [application/zip]\n",
            "Saving to: ‘sample_data/cities15000.zip.1’\n",
            "\n",
            "cities15000.zip.1   100%[===================>]   2.35M  2.89MB/s    in 0.8s    \n",
            "\n",
            "2022-09-26 14:21:26 (2.89 MB/s) - ‘sample_data/cities15000.zip.1’ saved [2464254/2464254]\n",
            "\n",
            "Archive:  sample_data/cities15000.zip\n",
            "replace cities15000.txt? [y]es, [n]o, [A]ll, [N]one, [r]ename: --2022-09-26 14:27:18--  http://download.geonames.org/export/dump/countryInfo.txt\n",
            "Resolving download.geonames.org (download.geonames.org)... 5.9.152.54\n",
            "Connecting to download.geonames.org (download.geonames.org)|5.9.152.54|:80... connected.\n",
            "HTTP request sent, awaiting response... 200 OK\n",
            "Length: 31411 (31K) [text/plain]\n",
            "Saving to: ‘sample_data/countryInfo.txt.1’\n",
            "\n",
            "countryInfo.txt.1   100%[===================>]  30.67K  --.-KB/s    in 0.1s    \n",
            "\n",
            "2022-09-26 14:27:18 (266 KB/s) - ‘sample_data/countryInfo.txt.1’ saved [31411/31411]\n",
            "\n",
            "--2022-09-26 14:27:18--  http://download.geonames.org/export/dump/readme.txt\n",
            "Resolving download.geonames.org (download.geonames.org)... 5.9.152.54\n",
            "Connecting to download.geonames.org (download.geonames.org)|5.9.152.54|:80... connected.\n",
            "HTTP request sent, awaiting response... 200 OK\n",
            "Length: 8716 (8.5K) [text/plain]\n",
            "Saving to: ‘sample_data/readme.txt.1’\n",
            "\n",
            "readme.txt.1        100%[===================>]   8.51K  --.-KB/s    in 0s      \n",
            "\n",
            "2022-09-26 14:27:19 (186 MB/s) - ‘sample_data/readme.txt.1’ saved [8716/8716]\n",
            "\n",
            "--2022-09-26 14:27:19--  https://datahub.io/core/gdp/r/gdp.json\n",
            "Resolving datahub.io (datahub.io)... 104.21.40.221, 172.67.157.38, 2606:4700:3033::6815:28dd, ...\n",
            "Connecting to datahub.io (datahub.io)|104.21.40.221|:443... connected.\n",
            "HTTP request sent, awaiting response... 302 Found\n",
            "Location: https://pkgstore.datahub.io/core/gdp/gdp_json/data/1a2503aa36368933be8f9a96e1dc16de/gdp_json.json [following]\n",
            "--2022-09-26 14:27:20--  https://pkgstore.datahub.io/core/gdp/gdp_json/data/1a2503aa36368933be8f9a96e1dc16de/gdp_json.json\n",
            "Resolving pkgstore.datahub.io (pkgstore.datahub.io)... 104.21.40.221, 172.67.157.38, 2606:4700:3030::ac43:9d26, ...\n",
            "Connecting to pkgstore.datahub.io (pkgstore.datahub.io)|104.21.40.221|:443... connected.\n",
            "HTTP request sent, awaiting response... 200 OK\n",
            "Length: 1111120 (1.1M) [text/plain]\n",
            "Saving to: ‘sample_data/gdp.json.1’\n",
            "\n",
            "gdp.json.1          100%[===================>]   1.06M  6.91MB/s    in 0.2s    \n",
            "\n",
            "2022-09-26 14:27:21 (6.91 MB/s) - ‘sample_data/gdp.json.1’ saved [1111120/1111120]\n",
            "\n"
          ]
        }
      ]
    },
    {
      "cell_type": "markdown",
      "source": [
        "## Load country data from gazetter into a dataframe\n"
      ],
      "metadata": {
        "id": "5M1cqxgtNS4c"
      },
      "id": "5M1cqxgtNS4c"
    },
    {
      "cell_type": "code",
      "source": [
        "import pandas as pd\n",
        "countries = pd.read_csv('sample_data/countryInfo.txt', sep='\\t', skiprows=49)\n",
        "countries.columns\n",
        "countries.info()"
      ],
      "metadata": {
        "colab": {
          "base_uri": "https://localhost:8080/"
        },
        "id": "d1yMG4UXTATm",
        "outputId": "9f4f7afb-6e4f-43ce-91e7-c4f3dacf3495"
      },
      "id": "d1yMG4UXTATm",
      "execution_count": 11,
      "outputs": [
        {
          "output_type": "stream",
          "name": "stdout",
          "text": [
            "<class 'pandas.core.frame.DataFrame'>\n",
            "RangeIndex: 252 entries, 0 to 251\n",
            "Data columns (total 19 columns):\n",
            " #   Column              Non-Null Count  Dtype  \n",
            "---  ------              --------------  -----  \n",
            " 0   #ISO                251 non-null    object \n",
            " 1   ISO3                252 non-null    object \n",
            " 2   ISO-Numeric         252 non-null    int64  \n",
            " 3   fips                249 non-null    object \n",
            " 4   Country             252 non-null    object \n",
            " 5   Capital             246 non-null    object \n",
            " 6   Area(in sq km)      252 non-null    float64\n",
            " 7   Population          252 non-null    int64  \n",
            " 8   Continent           210 non-null    object \n",
            " 9   tld                 251 non-null    object \n",
            " 10  CurrencyCode        251 non-null    object \n",
            " 11  CurrencyName        251 non-null    object \n",
            " 12  Phone               247 non-null    object \n",
            " 13  Postal Code Format  162 non-null    object \n",
            " 14  Postal Code Regex   162 non-null    object \n",
            " 15  Languages           249 non-null    object \n",
            " 16  geonameid           252 non-null    int64  \n",
            " 17  neighbours          165 non-null    object \n",
            " 18  EquivalentFipsCode  1 non-null      object \n",
            "dtypes: float64(1), int64(3), object(15)\n",
            "memory usage: 37.5+ KB\n"
          ]
        }
      ]
    },
    {
      "cell_type": "markdown",
      "source": [
        "## Load city data from gazeteer into pandas dataframe\n"
      ],
      "metadata": {
        "id": "GXs-Nm9kNBqt"
      },
      "id": "GXs-Nm9kNBqt"
    },
    {
      "cell_type": "code",
      "source": [
        "cities = pd.read_csv('cities15000.txt', sep='\\t')\n",
        "cities.info()"
      ],
      "metadata": {
        "colab": {
          "base_uri": "https://localhost:8080/"
        },
        "id": "OhFwtTmkbl88",
        "outputId": "6786e0ae-bd8c-402f-b6da-5bd083dbfb79"
      },
      "id": "OhFwtTmkbl88",
      "execution_count": 12,
      "outputs": [
        {
          "output_type": "stream",
          "name": "stdout",
          "text": [
            "<class 'pandas.core.frame.DataFrame'>\n",
            "RangeIndex: 26250 entries, 0 to 26249\n",
            "Data columns (total 19 columns):\n",
            " #   Column                                                                                                                                                                                        Non-Null Count  Dtype  \n",
            "---  ------                                                                                                                                                                                        --------------  -----  \n",
            " 0   3040051                                                                                                                                                                                       26250 non-null  int64  \n",
            " 1   les Escaldes                                                                                                                                                                                  26250 non-null  object \n",
            " 2   les Escaldes.1                                                                                                                                                                                26250 non-null  object \n",
            " 3   Ehskal'des-Ehndzhordani,Escaldes,Escaldes-Engordany,Les Escaldes,esukarudesu=engorudani jiao qu,lai sai si ka er de-en ge er da,Эскальдес-Энджордани,エスカルデス＝エンゴルダニ教区,萊塞斯卡爾德-恩戈爾達,萊塞斯卡爾德－恩戈爾達  24029 non-null  object \n",
            " 4   42.50729                                                                                                                                                                                      26250 non-null  float64\n",
            " 5   1.53414                                                                                                                                                                                       26250 non-null  float64\n",
            " 6   P                                                                                                                                                                                             26250 non-null  object \n",
            " 7   PPLA                                                                                                                                                                                          26250 non-null  object \n",
            " 8   AD                                                                                                                                                                                            26236 non-null  object \n",
            " 9   Unnamed: 9                                                                                                                                                                                    196 non-null    object \n",
            " 10  08                                                                                                                                                                                            26243 non-null  object \n",
            " 11  Unnamed: 11                                                                                                                                                                                   20885 non-null  object \n",
            " 12  Unnamed: 12                                                                                                                                                                                   8387 non-null   object \n",
            " 13  Unnamed: 13                                                                                                                                                                                   2616 non-null   object \n",
            " 14  15853                                                                                                                                                                                         26250 non-null  int64  \n",
            " 15  Unnamed: 15                                                                                                                                                                                   4231 non-null   float64\n",
            " 16  1033                                                                                                                                                                                          26250 non-null  int64  \n",
            " 17  Europe/Andorra                                                                                                                                                                                26250 non-null  object \n",
            " 18  2008-10-15                                                                                                                                                                                    26250 non-null  object \n",
            "dtypes: float64(3), int64(3), object(13)\n",
            "memory usage: 3.8+ MB\n"
          ]
        }
      ]
    },
    {
      "cell_type": "markdown",
      "source": [
        "## We can find the column names in the readme.txt file\n"
      ],
      "metadata": {
        "id": "NB8U-qKKMxh8"
      },
      "id": "NB8U-qKKMxh8"
    },
    {
      "cell_type": "code",
      "source": [
        "names = open('sample_data/readme.txt', 'r').readlines()[43:62]\n",
        "names = [n.split(':')[0].strip() for n in names]\n",
        "names\n",
        "cities = pd.read_csv('cities15000.txt', sep='\\t', names=names)\n",
        "print(cities.columns)\n",
        "cities.info()"
      ],
      "metadata": {
        "colab": {
          "base_uri": "https://localhost:8080/"
        },
        "id": "sWaRUY-9b57o",
        "outputId": "1a47eb2f-e93b-41c1-9b22-5ed9c780bc27"
      },
      "id": "sWaRUY-9b57o",
      "execution_count": 13,
      "outputs": [
        {
          "output_type": "stream",
          "name": "stdout",
          "text": [
            "Index(['geonameid', 'name', 'asciiname', 'alternatenames', 'latitude',\n",
            "       'longitude', 'feature class', 'feature code', 'country code', 'cc2',\n",
            "       'admin1 code', 'admin2 code', 'admin3 code', 'admin4 code',\n",
            "       'population', 'elevation', 'dem', 'timezone', 'modification date'],\n",
            "      dtype='object')\n",
            "<class 'pandas.core.frame.DataFrame'>\n",
            "RangeIndex: 26251 entries, 0 to 26250\n",
            "Data columns (total 19 columns):\n",
            " #   Column             Non-Null Count  Dtype  \n",
            "---  ------             --------------  -----  \n",
            " 0   geonameid          26251 non-null  int64  \n",
            " 1   name               26251 non-null  object \n",
            " 2   asciiname          26251 non-null  object \n",
            " 3   alternatenames     24030 non-null  object \n",
            " 4   latitude           26251 non-null  float64\n",
            " 5   longitude          26251 non-null  float64\n",
            " 6   feature class      26251 non-null  object \n",
            " 7   feature code       26251 non-null  object \n",
            " 8   country code       26237 non-null  object \n",
            " 9   cc2                196 non-null    object \n",
            " 10  admin1 code        26244 non-null  object \n",
            " 11  admin2 code        20885 non-null  object \n",
            " 12  admin3 code        8387 non-null   object \n",
            " 13  admin4 code        2616 non-null   object \n",
            " 14  population         26251 non-null  int64  \n",
            " 15  elevation          4231 non-null   float64\n",
            " 16  dem                26251 non-null  int64  \n",
            " 17  timezone           26251 non-null  object \n",
            " 18  modification date  26251 non-null  object \n",
            "dtypes: float64(3), int64(3), object(13)\n",
            "memory usage: 3.8+ MB\n"
          ]
        }
      ]
    },
    {
      "cell_type": "markdown",
      "source": [
        "## Now let's filter the data to possible snowbird locations\n"
      ],
      "metadata": {
        "id": "aiQfBcNFM5W5"
      },
      "id": "aiQfBcNFM5W5"
    },
    {
      "cell_type": "code",
      "source": [
        "mytowns = cities[cities['latitude'] <= -40.]\n",
        "mytowns = mytowns[mytowns['latitude'] >= -50.].reset_index()\n",
        "mytowns.info()"
      ],
      "metadata": {
        "colab": {
          "base_uri": "https://localhost:8080/"
        },
        "id": "QliV7JF_TZbi",
        "outputId": "09ddc5a2-890f-4872-de46-902804e887c4"
      },
      "id": "QliV7JF_TZbi",
      "execution_count": 10,
      "outputs": [
        {
          "output_type": "stream",
          "name": "stdout",
          "text": [
            "<class 'pandas.core.frame.DataFrame'>\n",
            "RangeIndex: 47 entries, 0 to 46\n",
            "Data columns (total 20 columns):\n",
            " #   Column             Non-Null Count  Dtype  \n",
            "---  ------             --------------  -----  \n",
            " 0   index              47 non-null     int64  \n",
            " 1   geonameid          47 non-null     int64  \n",
            " 2   name               47 non-null     object \n",
            " 3   asciiname          47 non-null     object \n",
            " 4   alternatenames     41 non-null     object \n",
            " 5   latitude           47 non-null     float64\n",
            " 6   longitude          47 non-null     float64\n",
            " 7   feature class      47 non-null     object \n",
            " 8   feature code       47 non-null     object \n",
            " 9   country code       47 non-null     object \n",
            " 10  cc2                1 non-null      object \n",
            " 11  admin1 code        47 non-null     object \n",
            " 12  admin2 code        46 non-null     object \n",
            " 13  admin3 code        10 non-null     object \n",
            " 14  admin4 code        0 non-null      object \n",
            " 15  population         47 non-null     int64  \n",
            " 16  elevation          0 non-null      float64\n",
            " 17  dem                47 non-null     int64  \n",
            " 18  timezone           47 non-null     object \n",
            " 19  modification date  47 non-null     object \n",
            "dtypes: float64(3), int64(4), object(13)\n",
            "memory usage: 7.5+ KB\n"
          ]
        }
      ]
    },
    {
      "cell_type": "markdown",
      "source": [
        "### Since we want to move to a country with low GDP we need to pair the city data with the country data. First step is to make a dataframe of country info that aligns with our dataframe of city info"
      ],
      "metadata": {
        "id": "HT5E3rONfnum"
      },
      "id": "HT5E3rONfnum"
    },
    {
      "cell_type": "code",
      "source": [
        "country_of_city = [countries[countries['#ISO'] == code] for code in mytowns['country code']]\n",
        "country_of_city = pd.concat(country_of_city, ignore_index=True)\n",
        "country_of_city.info()"
      ],
      "metadata": {
        "colab": {
          "base_uri": "https://localhost:8080/"
        },
        "id": "1gY7o6EA2g2f",
        "outputId": "1a956ea3-8df4-4e80-e3fb-38f53c531d09"
      },
      "id": "1gY7o6EA2g2f",
      "execution_count": 159,
      "outputs": [
        {
          "output_type": "stream",
          "name": "stdout",
          "text": [
            "<class 'pandas.core.frame.DataFrame'>\n",
            "RangeIndex: 47 entries, 0 to 46\n",
            "Data columns (total 19 columns):\n",
            " #   Column              Non-Null Count  Dtype  \n",
            "---  ------              --------------  -----  \n",
            " 0   #ISO                47 non-null     object \n",
            " 1   ISO3                47 non-null     object \n",
            " 2   ISO-Numeric         47 non-null     int64  \n",
            " 3   fips                47 non-null     object \n",
            " 4   Country             47 non-null     object \n",
            " 5   Capital             47 non-null     object \n",
            " 6   Area(in sq km)      47 non-null     float64\n",
            " 7   Population          47 non-null     int64  \n",
            " 8   Continent           47 non-null     object \n",
            " 9   tld                 47 non-null     object \n",
            " 10  CurrencyCode        47 non-null     object \n",
            " 11  CurrencyName        47 non-null     object \n",
            " 12  Phone               46 non-null     object \n",
            " 13  Postal Code Format  46 non-null     object \n",
            " 14  Postal Code Regex   46 non-null     object \n",
            " 15  Languages           47 non-null     object \n",
            " 16  geonameid           47 non-null     int64  \n",
            " 17  neighbours          21 non-null     object \n",
            " 18  EquivalentFipsCode  0 non-null      object \n",
            "dtypes: float64(1), int64(3), object(15)\n",
            "memory usage: 7.1+ KB\n"
          ]
        }
      ]
    },
    {
      "cell_type": "markdown",
      "source": [
        "## Now we can concatenate these two dataframes along the column axis\n"
      ],
      "metadata": {
        "id": "Aq0fFnZfNqBh"
      },
      "id": "Aq0fFnZfNqBh"
    },
    {
      "cell_type": "code",
      "source": [
        "my_towns_and_countries = pd.concat([mytowns, country_of_city], axis=1)\n",
        "my_towns_and_countries.info()"
      ],
      "metadata": {
        "colab": {
          "base_uri": "https://localhost:8080/"
        },
        "id": "wnO2-i822zb5",
        "outputId": "ee647c85-b1b9-47f3-f62e-fe40320778db"
      },
      "id": "wnO2-i822zb5",
      "execution_count": 160,
      "outputs": [
        {
          "output_type": "stream",
          "name": "stdout",
          "text": [
            "<class 'pandas.core.frame.DataFrame'>\n",
            "RangeIndex: 47 entries, 0 to 46\n",
            "Data columns (total 39 columns):\n",
            " #   Column              Non-Null Count  Dtype  \n",
            "---  ------              --------------  -----  \n",
            " 0   index               47 non-null     int64  \n",
            " 1   geonameid           47 non-null     int64  \n",
            " 2   name                47 non-null     object \n",
            " 3   asciiname           47 non-null     object \n",
            " 4   alternatenames      41 non-null     object \n",
            " 5   latitude            47 non-null     float64\n",
            " 6   longitude           47 non-null     float64\n",
            " 7   feature class       47 non-null     object \n",
            " 8   feature code        47 non-null     object \n",
            " 9   country code        47 non-null     object \n",
            " 10  cc2                 1 non-null      object \n",
            " 11  admin1 code         47 non-null     object \n",
            " 12  admin2 code         46 non-null     object \n",
            " 13  admin3 code         10 non-null     object \n",
            " 14  admin4 code         0 non-null      object \n",
            " 15  population          47 non-null     int64  \n",
            " 16  elevation           0 non-null      float64\n",
            " 17  dem                 47 non-null     int64  \n",
            " 18  timezone            47 non-null     object \n",
            " 19  modification date   47 non-null     object \n",
            " 20  #ISO                47 non-null     object \n",
            " 21  ISO3                47 non-null     object \n",
            " 22  ISO-Numeric         47 non-null     int64  \n",
            " 23  fips                47 non-null     object \n",
            " 24  Country             47 non-null     object \n",
            " 25  Capital             47 non-null     object \n",
            " 26  Area(in sq km)      47 non-null     float64\n",
            " 27  Population          47 non-null     int64  \n",
            " 28  Continent           47 non-null     object \n",
            " 29  tld                 47 non-null     object \n",
            " 30  CurrencyCode        47 non-null     object \n",
            " 31  CurrencyName        47 non-null     object \n",
            " 32  Phone               46 non-null     object \n",
            " 33  Postal Code Format  46 non-null     object \n",
            " 34  Postal Code Regex   46 non-null     object \n",
            " 35  Languages           47 non-null     object \n",
            " 36  geonameid           47 non-null     int64  \n",
            " 37  neighbours          21 non-null     object \n",
            " 38  EquivalentFipsCode  0 non-null      object \n",
            "dtypes: float64(4), int64(7), object(28)\n",
            "memory usage: 14.4+ KB\n"
          ]
        }
      ]
    },
    {
      "cell_type": "markdown",
      "source": [
        "## Next we'll load up the gdp info from another source\n"
      ],
      "metadata": {
        "id": "08EE7IsCNyH_"
      },
      "id": "08EE7IsCNyH_"
    },
    {
      "cell_type": "code",
      "source": [
        "gdp = pd.read_json('sample_data/gdp.json')\n",
        "gdp_recent = gdp[gdp['Year'] == 2016].reset_index()\n",
        "gdp_recent.info()"
      ],
      "metadata": {
        "colab": {
          "base_uri": "https://localhost:8080/"
        },
        "id": "_KPl7QUQ26ny",
        "outputId": "ca85effc-d744-4faa-f673-51ae706162dd"
      },
      "id": "_KPl7QUQ26ny",
      "execution_count": 161,
      "outputs": [
        {
          "output_type": "stream",
          "name": "stdout",
          "text": [
            "<class 'pandas.core.frame.DataFrame'>\n",
            "RangeIndex: 236 entries, 0 to 235\n",
            "Data columns (total 5 columns):\n",
            " #   Column        Non-Null Count  Dtype  \n",
            "---  ------        --------------  -----  \n",
            " 0   index         236 non-null    int64  \n",
            " 1   Country Code  236 non-null    object \n",
            " 2   Country Name  236 non-null    object \n",
            " 3   Value         236 non-null    float64\n",
            " 4   Year          236 non-null    int64  \n",
            "dtypes: float64(1), int64(2), object(2)\n",
            "memory usage: 9.3+ KB\n"
          ]
        }
      ]
    },
    {
      "cell_type": "markdown",
      "source": [
        "## There isn't GDP information for one of the countries\n"
      ],
      "metadata": {
        "id": "O672-xCFN2lG"
      },
      "id": "O672-xCFN2lG"
    },
    {
      "cell_type": "code",
      "source": [
        "cities, gdps = [], []\n",
        "\n",
        "for ix, city in my_towns_and_countries.iterrows():\n",
        "  gdp = gdp_recent[gdp_recent['Country Code'] == city['ISO3']]\n",
        "  if len(gdp) == 1:\n",
        "    gdps.append(gdp)\n",
        "    cities.append(pd.DataFrame([city.tolist()], columns=city.index))\n",
        "  else:\n",
        "    print(city['name'])\n",
        "    print(city['Country'])\n",
        "    print(city['modification date'])\n",
        "cities, gdps = pd.concat(cities, ignore_index=True), pd.concat(gdps, ignore_index=True)\n",
        "# cities.info(), gdps.info()\n",
        "mycities = pd.concat([cities, gdps], axis=1)\n",
        "mycities.info()\n"
      ],
      "metadata": {
        "colab": {
          "base_uri": "https://localhost:8080/"
        },
        "id": "U_-f8IH029yT",
        "outputId": "10d334ec-9feb-4c4d-f884-f6a053da633d"
      },
      "id": "U_-f8IH029yT",
      "execution_count": 162,
      "outputs": [
        {
          "output_type": "stream",
          "name": "stdout",
          "text": [
            "Port-aux-Français\n",
            "French Southern Territories\n",
            "2018-08-17\n",
            "<class 'pandas.core.frame.DataFrame'>\n",
            "RangeIndex: 46 entries, 0 to 45\n",
            "Data columns (total 44 columns):\n",
            " #   Column              Non-Null Count  Dtype  \n",
            "---  ------              --------------  -----  \n",
            " 0   index               46 non-null     int64  \n",
            " 1   geonameid           46 non-null     int64  \n",
            " 2   name                46 non-null     object \n",
            " 3   asciiname           46 non-null     object \n",
            " 4   alternatenames      40 non-null     object \n",
            " 5   latitude            46 non-null     float64\n",
            " 6   longitude           46 non-null     float64\n",
            " 7   feature class       46 non-null     object \n",
            " 8   feature code        46 non-null     object \n",
            " 9   country code        46 non-null     object \n",
            " 10  cc2                 0 non-null      float64\n",
            " 11  admin1 code         46 non-null     object \n",
            " 12  admin2 code         46 non-null     object \n",
            " 13  admin3 code         10 non-null     object \n",
            " 14  admin4 code         0 non-null      float64\n",
            " 15  population          46 non-null     int64  \n",
            " 16  elevation           0 non-null      float64\n",
            " 17  dem                 46 non-null     int64  \n",
            " 18  timezone            46 non-null     object \n",
            " 19  modification date   46 non-null     object \n",
            " 20  #ISO                46 non-null     object \n",
            " 21  ISO3                46 non-null     object \n",
            " 22  ISO-Numeric         46 non-null     int64  \n",
            " 23  fips                46 non-null     object \n",
            " 24  Country             46 non-null     object \n",
            " 25  Capital             46 non-null     object \n",
            " 26  Area(in sq km)      46 non-null     float64\n",
            " 27  Population          46 non-null     int64  \n",
            " 28  Continent           46 non-null     object \n",
            " 29  tld                 46 non-null     object \n",
            " 30  CurrencyCode        46 non-null     object \n",
            " 31  CurrencyName        46 non-null     object \n",
            " 32  Phone               46 non-null     object \n",
            " 33  Postal Code Format  46 non-null     object \n",
            " 34  Postal Code Regex   46 non-null     object \n",
            " 35  Languages           46 non-null     object \n",
            " 36  geonameid           46 non-null     int64  \n",
            " 37  neighbours          21 non-null     object \n",
            " 38  EquivalentFipsCode  0 non-null      float64\n",
            " 39  index               46 non-null     int64  \n",
            " 40  Country Code        46 non-null     object \n",
            " 41  Country Name        46 non-null     object \n",
            " 42  Value               46 non-null     float64\n",
            " 43  Year                46 non-null     int64  \n",
            "dtypes: float64(8), int64(9), object(27)\n",
            "memory usage: 15.9+ KB\n"
          ]
        }
      ]
    },
    {
      "cell_type": "markdown",
      "source": [
        "## Select only cities from country with the lowest GDP\n"
      ],
      "metadata": {
        "id": "DCTsT9WYN8sW"
      },
      "id": "DCTsT9WYN8sW"
    },
    {
      "cell_type": "code",
      "source": [
        "mycities = mycities[mycities['Value'] == mycities['Value'].min()]\n",
        "mycities.info()\n"
      ],
      "metadata": {
        "colab": {
          "base_uri": "https://localhost:8080/"
        },
        "id": "UfCQVoliSaRQ",
        "outputId": "a27b7a0b-49c3-4f0c-87d6-d6c64ef4d230"
      },
      "id": "UfCQVoliSaRQ",
      "execution_count": 163,
      "outputs": [
        {
          "output_type": "stream",
          "name": "stdout",
          "text": [
            "<class 'pandas.core.frame.DataFrame'>\n",
            "Int64Index: 22 entries, 24 to 45\n",
            "Data columns (total 44 columns):\n",
            " #   Column              Non-Null Count  Dtype  \n",
            "---  ------              --------------  -----  \n",
            " 0   index               22 non-null     int64  \n",
            " 1   geonameid           22 non-null     int64  \n",
            " 2   name                22 non-null     object \n",
            " 3   asciiname           22 non-null     object \n",
            " 4   alternatenames      16 non-null     object \n",
            " 5   latitude            22 non-null     float64\n",
            " 6   longitude           22 non-null     float64\n",
            " 7   feature class       22 non-null     object \n",
            " 8   feature code        22 non-null     object \n",
            " 9   country code        22 non-null     object \n",
            " 10  cc2                 0 non-null      float64\n",
            " 11  admin1 code         22 non-null     object \n",
            " 12  admin2 code         22 non-null     object \n",
            " 13  admin3 code         0 non-null      object \n",
            " 14  admin4 code         0 non-null      float64\n",
            " 15  population          22 non-null     int64  \n",
            " 16  elevation           0 non-null      float64\n",
            " 17  dem                 22 non-null     int64  \n",
            " 18  timezone            22 non-null     object \n",
            " 19  modification date   22 non-null     object \n",
            " 20  #ISO                22 non-null     object \n",
            " 21  ISO3                22 non-null     object \n",
            " 22  ISO-Numeric         22 non-null     int64  \n",
            " 23  fips                22 non-null     object \n",
            " 24  Country             22 non-null     object \n",
            " 25  Capital             22 non-null     object \n",
            " 26  Area(in sq km)      22 non-null     float64\n",
            " 27  Population          22 non-null     int64  \n",
            " 28  Continent           22 non-null     object \n",
            " 29  tld                 22 non-null     object \n",
            " 30  CurrencyCode        22 non-null     object \n",
            " 31  CurrencyName        22 non-null     object \n",
            " 32  Phone               22 non-null     object \n",
            " 33  Postal Code Format  22 non-null     object \n",
            " 34  Postal Code Regex   22 non-null     object \n",
            " 35  Languages           22 non-null     object \n",
            " 36  geonameid           22 non-null     int64  \n",
            " 37  neighbours          0 non-null      object \n",
            " 38  EquivalentFipsCode  0 non-null      float64\n",
            " 39  index               22 non-null     int64  \n",
            " 40  Country Code        22 non-null     object \n",
            " 41  Country Name        22 non-null     object \n",
            " 42  Value               22 non-null     float64\n",
            " 43  Year                22 non-null     int64  \n",
            "dtypes: float64(8), int64(9), object(27)\n",
            "memory usage: 7.7+ KB\n"
          ]
        }
      ]
    },
    {
      "cell_type": "markdown",
      "source": [
        "## One of the cities has no population. Weird. Let's remove this spurious data point. \n",
        "\n",
        "\n"
      ],
      "metadata": {
        "id": "JtS-w7NLOCOi"
      },
      "id": "JtS-w7NLOCOi"
    },
    {
      "cell_type": "code",
      "source": [
        "mycities['population']\n",
        "mycities.iloc[-1]\n",
        "# Remove pesky datapoint\n",
        "# mycities = mycities[mycities['population'] != 0]\n",
        "# mycities['population']"
      ],
      "metadata": {
        "colab": {
          "base_uri": "https://localhost:8080/"
        },
        "id": "Dvpm_6prYdER",
        "outputId": "b6dd8c1e-5234-421c-850a-c1299b890fc8"
      },
      "id": "Dvpm_6prYdER",
      "execution_count": 164,
      "outputs": [
        {
          "output_type": "execute_result",
          "data": {
            "text/plain": [
              "index                                17598\n",
              "geonameid                         11903546\n",
              "name                  Linton Military Camp\n",
              "asciiname             Linton Military Camp\n",
              "alternatenames                         NaN\n",
              "latitude                         -40.40309\n",
              "longitude                        175.58302\n",
              "feature class                            P\n",
              "feature code                          PPLG\n",
              "country code                            NZ\n",
              "cc2                                    NaN\n",
              "admin1 code                             F3\n",
              "admin2 code                            040\n",
              "admin3 code                            NaN\n",
              "admin4 code                            NaN\n",
              "population                               0\n",
              "elevation                              NaN\n",
              "dem                                     38\n",
              "timezone                  Pacific/Auckland\n",
              "modification date               2018-07-25\n",
              "#ISO                                    NZ\n",
              "ISO3                                   NZL\n",
              "ISO-Numeric                            554\n",
              "fips                                    NZ\n",
              "Country                        New Zealand\n",
              "Capital                         Wellington\n",
              "Area(in sq km)                    268680.0\n",
              "Population                         4885500\n",
              "Continent                               OC\n",
              "tld                                    .nz\n",
              "CurrencyCode                           NZD\n",
              "CurrencyName                        Dollar\n",
              "Phone                                   64\n",
              "Postal Code Format                    ####\n",
              "Postal Code Regex                ^(\\d{4})$\n",
              "Languages                         en-NZ,mi\n",
              "geonameid                          2186224\n",
              "neighbours                             NaN\n",
              "EquivalentFipsCode                     NaN\n",
              "index                                 8334\n",
              "Country Code                           NZL\n",
              "Country Name                   New Zealand\n",
              "Value                  184969146624.470001\n",
              "Year                                  2016\n",
              "Name: 45, dtype: object"
            ]
          },
          "metadata": {},
          "execution_count": 164
        }
      ]
    },
    {
      "cell_type": "markdown",
      "source": [
        "## Now select the city with the largest population\n"
      ],
      "metadata": {
        "id": "nTrie9CaOfrW"
      },
      "id": "nTrie9CaOfrW"
    },
    {
      "cell_type": "code",
      "source": [
        "mycities = mycities[mycities['population'] == mycities['population'].max()]\n",
        "mycities.iloc[0]"
      ],
      "metadata": {
        "colab": {
          "base_uri": "https://localhost:8080/"
        },
        "id": "twI5oY2Efips",
        "outputId": "370fe675-3025-48f4-a5bc-de470aedd10d"
      },
      "id": "twI5oY2Efips",
      "execution_count": 166,
      "outputs": [
        {
          "output_type": "execute_result",
          "data": {
            "text/plain": [
              "index                                                             17546\n",
              "geonameid                                                       2179537\n",
              "name                                                         Wellington\n",
              "asciiname                                                    Wellington\n",
              "alternatenames        Hie-ling-dong,Hiê-lìng-dóng,Ouellin'nkton,Ouel...\n",
              "latitude                                                      -41.28664\n",
              "longitude                                                     174.77557\n",
              "feature class                                                         P\n",
              "feature code                                                       PPLC\n",
              "country code                                                         NZ\n",
              "cc2                                                                 NaN\n",
              "admin1 code                                                          G2\n",
              "admin2 code                                                         047\n",
              "admin3 code                                                         NaN\n",
              "admin4 code                                                         NaN\n",
              "population                                                       381900\n",
              "elevation                                                           NaN\n",
              "dem                                                                  31\n",
              "timezone                                               Pacific/Auckland\n",
              "modification date                                            2019-09-05\n",
              "#ISO                                                                 NZ\n",
              "ISO3                                                                NZL\n",
              "ISO-Numeric                                                         554\n",
              "fips                                                                 NZ\n",
              "Country                                                     New Zealand\n",
              "Capital                                                      Wellington\n",
              "Area(in sq km)                                                 268680.0\n",
              "Population                                                      4885500\n",
              "Continent                                                            OC\n",
              "tld                                                                 .nz\n",
              "CurrencyCode                                                        NZD\n",
              "CurrencyName                                                     Dollar\n",
              "Phone                                                                64\n",
              "Postal Code Format                                                 ####\n",
              "Postal Code Regex                                             ^(\\d{4})$\n",
              "Languages                                                      en-NZ,mi\n",
              "geonameid                                                       2186224\n",
              "neighbours                                                          NaN\n",
              "EquivalentFipsCode                                                  NaN\n",
              "index                                                              8334\n",
              "Country Code                                                        NZL\n",
              "Country Name                                                New Zealand\n",
              "Value                                               184969146624.470001\n",
              "Year                                                               2016\n",
              "Name: 24, dtype: object"
            ]
          },
          "metadata": {},
          "execution_count": 166
        }
      ]
    },
    {
      "cell_type": "code",
      "source": [],
      "metadata": {
        "id": "hN3SV9hGgCyZ"
      },
      "id": "hN3SV9hGgCyZ",
      "execution_count": null,
      "outputs": []
    }
  ],
  "metadata": {
    "kernelspec": {
      "display_name": "Python 3 (ipykernel)",
      "language": "python",
      "name": "python3"
    },
    "language_info": {
      "codemirror_mode": {
        "name": "ipython",
        "version": 3
      },
      "file_extension": ".py",
      "mimetype": "text/x-python",
      "name": "python",
      "nbconvert_exporter": "python",
      "pygments_lexer": "ipython3",
      "version": "3.9.6"
    },
    "colab": {
      "provenance": []
    }
  },
  "nbformat": 4,
  "nbformat_minor": 5
}